{
 "cells": [
  {
   "cell_type": "markdown",
   "metadata": {},
   "source": [
    "# Preforming Topic Modeling on Amazon Review Data "
   ]
  },
  {
   "cell_type": "markdown",
   "metadata": {},
   "source": [
    "### Contents "
   ]
  },
  {
   "cell_type": "markdown",
   "metadata": {},
   "source": [
    "- [Import Packages](#Import-Packages)\n",
    "- [Import Data](#Import-Data)\n",
    "- [Data Cleaning](#Data-Cleaning)\n",
    "- [Exploratory Data Analysis](#Exploratory-Data-Analysis)\n",
    "- [Data Processing](#Data-Processing)\n",
    "- [LDA Modeling](#LDA-Modeling)\n",
    "- [Topic Interpretation](#Topic-Interpretation)\n",
    "- [Limitations](#Limitations)\n",
    "- [Conclusion & Next Steps](#Conclusion-&-Recommendations)\n",
    "- [Sources](#Sources) \n",
    "\n"
   ]
  },
  {
   "cell_type": "markdown",
   "metadata": {},
   "source": [
    "### Import Packages"
   ]
  },
  {
   "cell_type": "code",
   "execution_count": 50,
   "metadata": {},
   "outputs": [],
   "source": [
    "import os\n",
    "import json\n",
    "import gzip\n",
    "import csv\n",
    "import pandas as pd\n",
    "import pickle\n",
    "import matplotlib.pyplot as plt\n",
    "import matplotlib.style as style \n",
    "from matplotlib.ticker import MaxNLocator\n",
    "import missingno as msno \n",
    "from urllib.request import urlopen\n",
    "import regex as re\n",
    "from nltk.corpus import stopwords\n",
    "from nltk.tokenize import RegexpTokenizer\n",
    "from nltk.stem import WordNetLemmatizer\n",
    "from sklearn.model_selection import train_test_split\n",
    "from sklearn.feature_extraction.text import TfidfVectorizer\n",
    "from sklearn.cluster import KMeans\n",
    "from sklearn.preprocessing import StandardScaler\n",
    "\n",
    "\n",
    "import gensim\n",
    "from gensim.models import Phrases\n",
    "from gensim.corpora import Dictionary\n",
    "from gensim.models import LdaModel\n",
    "from gensim.models.coherencemodel import CoherenceModel\n",
    "import pyLDAvis.gensim"
   ]
  },
  {
   "cell_type": "markdown",
   "metadata": {},
   "source": [
    "### Import Data "
   ]
  },
  {
   "cell_type": "markdown",
   "metadata": {},
   "source": [
    "The data is broken into 2 datasets, the first is the reviews dataset with a total of 883,636 rows. There is also the metadata information which will be loaded to help which products are being reviewed. "
   ]
  },
  {
   "cell_type": "code",
   "execution_count": 3,
   "metadata": {
    "scrolled": true
   },
   "outputs": [
    {
     "name": "stdout",
     "output_type": "stream",
     "text": [
      "883636\n",
      "{'overall': 5.0, 'verified': True, 'reviewTime': '10 20, 2014', 'reviewerID': 'A1D4G1SNUZWQOT', 'asin': '7106116521', 'reviewerName': 'Tracy', 'reviewText': 'Exactly what I needed.', 'summary': 'perfect replacements!!', 'unixReviewTime': 1413763200}\n"
     ]
    }
   ],
   "source": [
    "# reading in Amazon Fashion review data \n",
    "data = []\n",
    "with gzip.open('./data/AMAZON_FASHION.json.gz') as f:\n",
    "    for l in f:\n",
    "        data.append(json.loads(l.strip()))\n",
    "    \n",
    "# total length of list, this number equals total number of products\n",
    "print(len(data))\n",
    "\n",
    "# first row of the list\n",
    "print(data[0])\n"
   ]
  },
  {
   "cell_type": "code",
   "execution_count": 4,
   "metadata": {},
   "outputs": [
    {
     "name": "stdout",
     "output_type": "stream",
     "text": [
      "883636\n"
     ]
    }
   ],
   "source": [
    "# convert list into pandas DataFrame\n",
    "df = pd.DataFrame.from_dict(data)\n",
    "print(len(df))"
   ]
  },
  {
   "cell_type": "code",
   "execution_count": 5,
   "metadata": {},
   "outputs": [
    {
     "data": {
      "text/html": [
       "<div>\n",
       "<style scoped>\n",
       "    .dataframe tbody tr th:only-of-type {\n",
       "        vertical-align: middle;\n",
       "    }\n",
       "\n",
       "    .dataframe tbody tr th {\n",
       "        vertical-align: top;\n",
       "    }\n",
       "\n",
       "    .dataframe thead th {\n",
       "        text-align: right;\n",
       "    }\n",
       "</style>\n",
       "<table border=\"1\" class=\"dataframe\">\n",
       "  <thead>\n",
       "    <tr style=\"text-align: right;\">\n",
       "      <th></th>\n",
       "      <th>overall</th>\n",
       "      <th>verified</th>\n",
       "      <th>reviewTime</th>\n",
       "      <th>reviewerID</th>\n",
       "      <th>asin</th>\n",
       "      <th>reviewerName</th>\n",
       "      <th>reviewText</th>\n",
       "      <th>summary</th>\n",
       "      <th>unixReviewTime</th>\n",
       "      <th>vote</th>\n",
       "      <th>style</th>\n",
       "      <th>image</th>\n",
       "    </tr>\n",
       "  </thead>\n",
       "  <tbody>\n",
       "    <tr>\n",
       "      <th>0</th>\n",
       "      <td>5.0</td>\n",
       "      <td>True</td>\n",
       "      <td>10 20, 2014</td>\n",
       "      <td>A1D4G1SNUZWQOT</td>\n",
       "      <td>7106116521</td>\n",
       "      <td>Tracy</td>\n",
       "      <td>Exactly what I needed.</td>\n",
       "      <td>perfect replacements!!</td>\n",
       "      <td>1413763200</td>\n",
       "      <td>NaN</td>\n",
       "      <td>NaN</td>\n",
       "      <td>NaN</td>\n",
       "    </tr>\n",
       "    <tr>\n",
       "      <th>1</th>\n",
       "      <td>2.0</td>\n",
       "      <td>True</td>\n",
       "      <td>09 28, 2014</td>\n",
       "      <td>A3DDWDH9PX2YX2</td>\n",
       "      <td>7106116521</td>\n",
       "      <td>Sonja Lau</td>\n",
       "      <td>I agree with the other review, the opening is ...</td>\n",
       "      <td>I agree with the other review, the opening is ...</td>\n",
       "      <td>1411862400</td>\n",
       "      <td>3</td>\n",
       "      <td>NaN</td>\n",
       "      <td>NaN</td>\n",
       "    </tr>\n",
       "    <tr>\n",
       "      <th>2</th>\n",
       "      <td>4.0</td>\n",
       "      <td>False</td>\n",
       "      <td>08 25, 2014</td>\n",
       "      <td>A2MWC41EW7XL15</td>\n",
       "      <td>7106116521</td>\n",
       "      <td>Kathleen</td>\n",
       "      <td>Love these... I am going to order another pack...</td>\n",
       "      <td>My New 'Friends' !!</td>\n",
       "      <td>1408924800</td>\n",
       "      <td>NaN</td>\n",
       "      <td>NaN</td>\n",
       "      <td>NaN</td>\n",
       "    </tr>\n",
       "    <tr>\n",
       "      <th>3</th>\n",
       "      <td>2.0</td>\n",
       "      <td>True</td>\n",
       "      <td>08 24, 2014</td>\n",
       "      <td>A2UH2QQ275NV45</td>\n",
       "      <td>7106116521</td>\n",
       "      <td>Jodi Stoner</td>\n",
       "      <td>too tiny an opening</td>\n",
       "      <td>Two Stars</td>\n",
       "      <td>1408838400</td>\n",
       "      <td>NaN</td>\n",
       "      <td>NaN</td>\n",
       "      <td>NaN</td>\n",
       "    </tr>\n",
       "    <tr>\n",
       "      <th>4</th>\n",
       "      <td>3.0</td>\n",
       "      <td>False</td>\n",
       "      <td>07 27, 2014</td>\n",
       "      <td>A89F3LQADZBS5</td>\n",
       "      <td>7106116521</td>\n",
       "      <td>Alexander D.</td>\n",
       "      <td>Okay</td>\n",
       "      <td>Three Stars</td>\n",
       "      <td>1406419200</td>\n",
       "      <td>NaN</td>\n",
       "      <td>NaN</td>\n",
       "      <td>NaN</td>\n",
       "    </tr>\n",
       "  </tbody>\n",
       "</table>\n",
       "</div>"
      ],
      "text/plain": [
       "   overall  verified   reviewTime      reviewerID        asin  reviewerName  \\\n",
       "0      5.0      True  10 20, 2014  A1D4G1SNUZWQOT  7106116521         Tracy   \n",
       "1      2.0      True  09 28, 2014  A3DDWDH9PX2YX2  7106116521     Sonja Lau   \n",
       "2      4.0     False  08 25, 2014  A2MWC41EW7XL15  7106116521      Kathleen   \n",
       "3      2.0      True  08 24, 2014  A2UH2QQ275NV45  7106116521   Jodi Stoner   \n",
       "4      3.0     False  07 27, 2014   A89F3LQADZBS5  7106116521  Alexander D.   \n",
       "\n",
       "                                          reviewText  \\\n",
       "0                             Exactly what I needed.   \n",
       "1  I agree with the other review, the opening is ...   \n",
       "2  Love these... I am going to order another pack...   \n",
       "3                                too tiny an opening   \n",
       "4                                               Okay   \n",
       "\n",
       "                                             summary  unixReviewTime vote  \\\n",
       "0                             perfect replacements!!      1413763200  NaN   \n",
       "1  I agree with the other review, the opening is ...      1411862400    3   \n",
       "2                                My New 'Friends' !!      1408924800  NaN   \n",
       "3                                          Two Stars      1408838400  NaN   \n",
       "4                                        Three Stars      1406419200  NaN   \n",
       "\n",
       "  style image  \n",
       "0   NaN   NaN  \n",
       "1   NaN   NaN  \n",
       "2   NaN   NaN  \n",
       "3   NaN   NaN  \n",
       "4   NaN   NaN  "
      ]
     },
     "execution_count": 5,
     "metadata": {},
     "output_type": "execute_result"
    }
   ],
   "source": [
    "# checking everything looks okay \n",
    "df.head()"
   ]
  },
  {
   "cell_type": "code",
   "execution_count": 6,
   "metadata": {},
   "outputs": [
    {
     "data": {
      "text/plain": [
       "(883636, 12)"
      ]
     },
     "execution_count": 6,
     "metadata": {},
     "output_type": "execute_result"
    }
   ],
   "source": [
    "df.shape"
   ]
  },
  {
   "cell_type": "markdown",
   "metadata": {},
   "source": [
    "Next, is to read in the Metadata which contains the product information. "
   ]
  },
  {
   "cell_type": "code",
   "execution_count": 7,
   "metadata": {},
   "outputs": [
    {
     "name": "stdout",
     "output_type": "stream",
     "text": [
      "186637\n",
      "{'title': 'Slime Time Fall Fest [With CDROM and Collector Cards and Neutron Balls, Incredi-Ball and Glow Stick Necklace, Paper Fram', 'image': ['https://images-na.ssl-images-amazon.com/images/I/51bSrINiWpL._US40_.jpg'], 'brand': 'Group Publishing (CO)', 'feature': ['Product Dimensions:\\n                    \\n8.7 x 3.6 x 11.4 inches', 'Shipping Weight:\\n                    \\n2.4 pounds'], 'rank': '13,052,976inClothing,Shoesamp;Jewelry(', 'date': '8.70 inches', 'asin': '0764443682'}\n"
     ]
    }
   ],
   "source": [
    "# this dataset includes a notebook which walks you through additional data cleaning, this is pulled from that \n",
    "# https://colab.research.google.com/drive/1Zv6MARGQcrBbLHyjPVVMZVnRWsRnVMpV#scrollTo=LgWrDtZ94w89\n",
    "asin_data = []\n",
    "with gzip.open('./data/meta_AMAZON_FASHION.json.gz') as f:\n",
    "    for l in f:\n",
    "        asin_data.append(json.loads(l.strip()))\n",
    "    \n",
    "# total length of list, this number equals total number of products\n",
    "print(len(asin_data))\n",
    "\n",
    "# first row of the list\n",
    "print(asin_data[0])"
   ]
  },
  {
   "cell_type": "code",
   "execution_count": 8,
   "metadata": {},
   "outputs": [
    {
     "name": "stdout",
     "output_type": "stream",
     "text": [
      "186637\n"
     ]
    }
   ],
   "source": [
    "# converting the data into a DataFrame\n",
    "asin_df = pd.DataFrame.from_dict(asin_data)\n",
    "print(len(asin_df))"
   ]
  },
  {
   "cell_type": "code",
   "execution_count": 9,
   "metadata": {},
   "outputs": [
    {
     "name": "stdout",
     "output_type": "stream",
     "text": [
      "430\n",
      "186207\n"
     ]
    }
   ],
   "source": [
    "# this dataset includes a notebook which walks you through additional data cleaning\n",
    "# https://colab.research.google.com/drive/1Zv6MARGQcrBbLHyjPVVMZVnRWsRnVMpV#scrollTo=LgWrDtZ94w89\n",
    "# remove rows with unformatted title (i.e. some 'title' may still contain html style content)\n",
    "df3 = asin_df.fillna('')\n",
    "df4 = df3[df3.title.str.contains('getTime')] # unformatted rows\n",
    "product_df = df3[~df3.title.str.contains('getTime')] # filter those unformatted rows\n",
    "print(len(df4))\n",
    "print(len(product_df))"
   ]
  },
  {
   "cell_type": "code",
   "execution_count": 10,
   "metadata": {},
   "outputs": [
    {
     "data": {
      "text/html": [
       "<div>\n",
       "<style scoped>\n",
       "    .dataframe tbody tr th:only-of-type {\n",
       "        vertical-align: middle;\n",
       "    }\n",
       "\n",
       "    .dataframe tbody tr th {\n",
       "        vertical-align: top;\n",
       "    }\n",
       "\n",
       "    .dataframe thead th {\n",
       "        text-align: right;\n",
       "    }\n",
       "</style>\n",
       "<table border=\"1\" class=\"dataframe\">\n",
       "  <thead>\n",
       "    <tr style=\"text-align: right;\">\n",
       "      <th></th>\n",
       "      <th>title</th>\n",
       "      <th>image</th>\n",
       "      <th>brand</th>\n",
       "      <th>feature</th>\n",
       "      <th>rank</th>\n",
       "      <th>date</th>\n",
       "      <th>asin</th>\n",
       "      <th>description</th>\n",
       "      <th>price</th>\n",
       "      <th>also_view</th>\n",
       "      <th>also_buy</th>\n",
       "      <th>fit</th>\n",
       "      <th>details</th>\n",
       "      <th>similar_item</th>\n",
       "      <th>tech1</th>\n",
       "    </tr>\n",
       "  </thead>\n",
       "  <tbody>\n",
       "    <tr>\n",
       "      <th>0</th>\n",
       "      <td>Slime Time Fall Fest [With CDROM and Collector...</td>\n",
       "      <td>[https://images-na.ssl-images-amazon.com/image...</td>\n",
       "      <td>Group Publishing (CO)</td>\n",
       "      <td>[Product Dimensions:\\n                    \\n8....</td>\n",
       "      <td>13,052,976inClothing,Shoesamp;Jewelry(</td>\n",
       "      <td>8.70 inches</td>\n",
       "      <td>0764443682</td>\n",
       "      <td></td>\n",
       "      <td></td>\n",
       "      <td></td>\n",
       "      <td></td>\n",
       "      <td></td>\n",
       "      <td></td>\n",
       "      <td></td>\n",
       "      <td></td>\n",
       "    </tr>\n",
       "    <tr>\n",
       "      <th>1</th>\n",
       "      <td>XCC Qi promise new spider snake preparing men'...</td>\n",
       "      <td>[https://images-na.ssl-images-amazon.com/image...</td>\n",
       "      <td></td>\n",
       "      <td></td>\n",
       "      <td>11,654,581inClothing,Shoesamp;Jewelry(</td>\n",
       "      <td>5 star</td>\n",
       "      <td>1291691480</td>\n",
       "      <td></td>\n",
       "      <td></td>\n",
       "      <td></td>\n",
       "      <td></td>\n",
       "      <td></td>\n",
       "      <td></td>\n",
       "      <td></td>\n",
       "      <td></td>\n",
       "    </tr>\n",
       "    <tr>\n",
       "      <th>2</th>\n",
       "      <td>Magical Things I Really Do Do Too!</td>\n",
       "      <td>[https://images-na.ssl-images-amazon.com/image...</td>\n",
       "      <td>Christopher Manos</td>\n",
       "      <td>[Package Dimensions:\\n                    \\n8....</td>\n",
       "      <td>19,308,073inClothing,ShoesJewelry(</td>\n",
       "      <td>5 star</td>\n",
       "      <td>1940280001</td>\n",
       "      <td>[For the professional or amateur magician.  Ro...</td>\n",
       "      <td></td>\n",
       "      <td></td>\n",
       "      <td></td>\n",
       "      <td></td>\n",
       "      <td></td>\n",
       "      <td></td>\n",
       "      <td></td>\n",
       "    </tr>\n",
       "    <tr>\n",
       "      <th>3</th>\n",
       "      <td>Ashes to Ashes, Oranges to Oranges</td>\n",
       "      <td>[https://images-na.ssl-images-amazon.com/image...</td>\n",
       "      <td>Flickerlamp Publishing</td>\n",
       "      <td>[Package Dimensions:\\n                    \\n8....</td>\n",
       "      <td>19,734,184inClothing,ShoesJewelry(</td>\n",
       "      <td>5 star</td>\n",
       "      <td>1940735033</td>\n",
       "      <td></td>\n",
       "      <td></td>\n",
       "      <td></td>\n",
       "      <td></td>\n",
       "      <td></td>\n",
       "      <td></td>\n",
       "      <td></td>\n",
       "      <td></td>\n",
       "    </tr>\n",
       "    <tr>\n",
       "      <th>4</th>\n",
       "      <td>Aether &amp; Empire #1 - 2016 First Printing Comic...</td>\n",
       "      <td>[https://images-na.ssl-images-amazon.com/image...</td>\n",
       "      <td></td>\n",
       "      <td>[Package Dimensions:\\n                    \\n10...</td>\n",
       "      <td>10,558,646inClothing,Shoesamp;Jewelry(</td>\n",
       "      <td>5 star</td>\n",
       "      <td>1940967805</td>\n",
       "      <td></td>\n",
       "      <td>$4.50</td>\n",
       "      <td></td>\n",
       "      <td></td>\n",
       "      <td></td>\n",
       "      <td></td>\n",
       "      <td></td>\n",
       "      <td></td>\n",
       "    </tr>\n",
       "  </tbody>\n",
       "</table>\n",
       "</div>"
      ],
      "text/plain": [
       "                                               title  \\\n",
       "0  Slime Time Fall Fest [With CDROM and Collector...   \n",
       "1  XCC Qi promise new spider snake preparing men'...   \n",
       "2                 Magical Things I Really Do Do Too!   \n",
       "3                 Ashes to Ashes, Oranges to Oranges   \n",
       "4  Aether & Empire #1 - 2016 First Printing Comic...   \n",
       "\n",
       "                                               image                   brand  \\\n",
       "0  [https://images-na.ssl-images-amazon.com/image...   Group Publishing (CO)   \n",
       "1  [https://images-na.ssl-images-amazon.com/image...                           \n",
       "2  [https://images-na.ssl-images-amazon.com/image...       Christopher Manos   \n",
       "3  [https://images-na.ssl-images-amazon.com/image...  Flickerlamp Publishing   \n",
       "4  [https://images-na.ssl-images-amazon.com/image...                           \n",
       "\n",
       "                                             feature  \\\n",
       "0  [Product Dimensions:\\n                    \\n8....   \n",
       "1                                                      \n",
       "2  [Package Dimensions:\\n                    \\n8....   \n",
       "3  [Package Dimensions:\\n                    \\n8....   \n",
       "4  [Package Dimensions:\\n                    \\n10...   \n",
       "\n",
       "                                     rank         date        asin  \\\n",
       "0  13,052,976inClothing,Shoesamp;Jewelry(  8.70 inches  0764443682   \n",
       "1  11,654,581inClothing,Shoesamp;Jewelry(       5 star  1291691480   \n",
       "2      19,308,073inClothing,ShoesJewelry(       5 star  1940280001   \n",
       "3      19,734,184inClothing,ShoesJewelry(       5 star  1940735033   \n",
       "4  10,558,646inClothing,Shoesamp;Jewelry(       5 star  1940967805   \n",
       "\n",
       "                                         description  price also_view  \\\n",
       "0                                                                       \n",
       "1                                                                       \n",
       "2  [For the professional or amateur magician.  Ro...                    \n",
       "3                                                                       \n",
       "4                                                     $4.50             \n",
       "\n",
       "  also_buy fit details similar_item tech1  \n",
       "0                                          \n",
       "1                                          \n",
       "2                                          \n",
       "3                                          \n",
       "4                                          "
      ]
     },
     "execution_count": 10,
     "metadata": {},
     "output_type": "execute_result"
    }
   ],
   "source": [
    "#checking the out the first few rows \n",
    "product_df.head()"
   ]
  },
  {
   "cell_type": "code",
   "execution_count": 11,
   "metadata": {},
   "outputs": [
    {
     "data": {
      "text/plain": [
       "(186207, 15)"
      ]
     },
     "execution_count": 11,
     "metadata": {},
     "output_type": "execute_result"
    }
   ],
   "source": [
    "product_df.shape"
   ]
  },
  {
   "cell_type": "markdown",
   "metadata": {},
   "source": [
    "### Data Cleaning"
   ]
  },
  {
   "cell_type": "markdown",
   "metadata": {},
   "source": [
    "We'll begin by cleaning our reviews data. We'll start by checking for any missing data. "
   ]
  },
  {
   "cell_type": "code",
   "execution_count": 6,
   "metadata": {},
   "outputs": [
    {
     "data": {
      "text/plain": [
       "<matplotlib.axes._subplots.AxesSubplot at 0x114538fd0>"
      ]
     },
     "execution_count": 6,
     "metadata": {},
     "output_type": "execute_result"
    },
    {
     "data": {
      "image/png": "[encoded data removed]",
      "text/plain": [
       "<Figure size 1728x720 with 3 Axes>"
      ]
     },
     "metadata": {
      "needs_background": "light"
     },
     "output_type": "display_data"
    }
   ],
   "source": [
    "#plot nulls quickly \n",
    "msno.bar(df) "
   ]
  },
  {
   "cell_type": "code",
   "execution_count": 7,
   "metadata": {},
   "outputs": [
    {
     "data": {
      "text/plain": [
       "overall                0\n",
       "verified               0\n",
       "reviewTime             0\n",
       "reviewerID             0\n",
       "asin                   0\n",
       "reviewerName          92\n",
       "reviewText          1233\n",
       "summary              533\n",
       "unixReviewTime         0\n",
       "vote              803736\n",
       "style             579067\n",
       "image             854829\n",
       "dtype: int64"
      ]
     },
     "execution_count": 7,
     "metadata": {},
     "output_type": "execute_result"
    }
   ],
   "source": [
    "df.isnull().sum()"
   ]
  },
  {
   "cell_type": "markdown",
   "metadata": {},
   "source": [
    "**Observation:** There appears to be a large amount of missing data in the `vote`, `style`, and `image` columns, so we'll drop those. It also makes sense to drop the `reviewerName` column since it is a redundancy of the `reviewerID` column. To decrease the size of the DataFrame, we'll also drop the `overall`, `verified`, and the `reviewTime`& `unixReviewTime` columns, since the focus of our work will be on the `reviewText` column.  We  will also drop any rows that are missing the `reviewText`  column, as that is what we will be using to create our corpus.\n"
   ]
  },
  {
   "cell_type": "code",
   "execution_count": 8,
   "metadata": {},
   "outputs": [],
   "source": [
    "# dropping extra columns \n",
    "df.drop(columns = ['vote', 'style', 'image',\n",
    "                   'summary', 'reviewerName', 'overall',\n",
    "                   'verified', 'reviewTime', 'unixReviewTime'],\n",
    "                    inplace = True)"
   ]
  },
  {
   "cell_type": "code",
   "execution_count": 9,
   "metadata": {},
   "outputs": [],
   "source": [
    "# dropping rows with missing data \n",
    "df.dropna( axis = 0 , subset = ['reviewText'], inplace = True)"
   ]
  },
  {
   "cell_type": "code",
   "execution_count": 10,
   "metadata": {},
   "outputs": [
    {
     "data": {
      "text/plain": [
       "(882403, 3)"
      ]
     },
     "execution_count": 10,
     "metadata": {},
     "output_type": "execute_result"
    }
   ],
   "source": [
    "# new shape? \n",
    "df.shape"
   ]
  },
  {
   "cell_type": "code",
   "execution_count": 11,
   "metadata": {},
   "outputs": [
    {
     "data": {
      "text/html": [
       "<div>\n",
       "<style scoped>\n",
       "    .dataframe tbody tr th:only-of-type {\n",
       "        vertical-align: middle;\n",
       "    }\n",
       "\n",
       "    .dataframe tbody tr th {\n",
       "        vertical-align: top;\n",
       "    }\n",
       "\n",
       "    .dataframe thead th {\n",
       "        text-align: right;\n",
       "    }\n",
       "</style>\n",
       "<table border=\"1\" class=\"dataframe\">\n",
       "  <thead>\n",
       "    <tr style=\"text-align: right;\">\n",
       "      <th></th>\n",
       "      <th>reviewerID</th>\n",
       "      <th>asin</th>\n",
       "      <th>reviewText</th>\n",
       "    </tr>\n",
       "  </thead>\n",
       "  <tbody>\n",
       "    <tr>\n",
       "      <th>0</th>\n",
       "      <td>A1D4G1SNUZWQOT</td>\n",
       "      <td>7106116521</td>\n",
       "      <td>Exactly what I needed.</td>\n",
       "    </tr>\n",
       "    <tr>\n",
       "      <th>1</th>\n",
       "      <td>A3DDWDH9PX2YX2</td>\n",
       "      <td>7106116521</td>\n",
       "      <td>I agree with the other review, the opening is ...</td>\n",
       "    </tr>\n",
       "    <tr>\n",
       "      <th>2</th>\n",
       "      <td>A2MWC41EW7XL15</td>\n",
       "      <td>7106116521</td>\n",
       "      <td>Love these... I am going to order another pack...</td>\n",
       "    </tr>\n",
       "    <tr>\n",
       "      <th>3</th>\n",
       "      <td>A2UH2QQ275NV45</td>\n",
       "      <td>7106116521</td>\n",
       "      <td>too tiny an opening</td>\n",
       "    </tr>\n",
       "    <tr>\n",
       "      <th>4</th>\n",
       "      <td>A89F3LQADZBS5</td>\n",
       "      <td>7106116521</td>\n",
       "      <td>Okay</td>\n",
       "    </tr>\n",
       "  </tbody>\n",
       "</table>\n",
       "</div>"
      ],
      "text/plain": [
       "       reviewerID        asin  \\\n",
       "0  A1D4G1SNUZWQOT  7106116521   \n",
       "1  A3DDWDH9PX2YX2  7106116521   \n",
       "2  A2MWC41EW7XL15  7106116521   \n",
       "3  A2UH2QQ275NV45  7106116521   \n",
       "4   A89F3LQADZBS5  7106116521   \n",
       "\n",
       "                                          reviewText  \n",
       "0                             Exactly what I needed.  \n",
       "1  I agree with the other review, the opening is ...  \n",
       "2  Love these... I am going to order another pack...  \n",
       "3                                too tiny an opening  \n",
       "4                                               Okay  "
      ]
     },
     "execution_count": 11,
     "metadata": {},
     "output_type": "execute_result"
    }
   ],
   "source": [
    "# call .head()\n",
    "df.head()"
   ]
  },
  {
   "cell_type": "code",
   "execution_count": 12,
   "metadata": {},
   "outputs": [
    {
     "name": "stdout",
     "output_type": "stream",
     "text": [
      "<class 'pandas.core.frame.DataFrame'>\n",
      "Int64Index: 882403 entries, 0 to 883635\n",
      "Data columns (total 3 columns):\n",
      " #   Column      Non-Null Count   Dtype \n",
      "---  ------      --------------   ----- \n",
      " 0   reviewerID  882403 non-null  object\n",
      " 1   asin        882403 non-null  object\n",
      " 2   reviewText  882403 non-null  object\n",
      "dtypes: object(3)\n",
      "memory usage: 26.9+ MB\n"
     ]
    }
   ],
   "source": [
    "# call .info()\n",
    "df.info()"
   ]
  },
  {
   "cell_type": "markdown",
   "metadata": {},
   "source": [
    "**Observation:** From above, we can see that the `reviewerID` and `asin` are stored as objects. Let's convert those data types to ones we'll be able to feed into a model. "
   ]
  },
  {
   "cell_type": "code",
   "execution_count": 13,
   "metadata": {},
   "outputs": [],
   "source": [
    "# using hash to update reviewerID column. found help on how to do this on stackoverflow. \n",
    "# https://stackoverflow.com/questions/56579642/convert-unique-string-ids-to-unique-integer-ids-in-python\n",
    "df['int_reviewerID'] = [hash(uid) for uid in df['reviewerID']]\n",
    "# also updating the asin column to int with the hash \n",
    "df['int_asin'] = [hash(uasin) for uasin in df['asin']]"
   ]
  },
  {
   "cell_type": "code",
   "execution_count": 14,
   "metadata": {},
   "outputs": [
    {
     "data": {
      "text/html": [
       "<div>\n",
       "<style scoped>\n",
       "    .dataframe tbody tr th:only-of-type {\n",
       "        vertical-align: middle;\n",
       "    }\n",
       "\n",
       "    .dataframe tbody tr th {\n",
       "        vertical-align: top;\n",
       "    }\n",
       "\n",
       "    .dataframe thead th {\n",
       "        text-align: right;\n",
       "    }\n",
       "</style>\n",
       "<table border=\"1\" class=\"dataframe\">\n",
       "  <thead>\n",
       "    <tr style=\"text-align: right;\">\n",
       "      <th></th>\n",
       "      <th>reviewerID</th>\n",
       "      <th>asin</th>\n",
       "      <th>reviewText</th>\n",
       "      <th>int_reviewerID</th>\n",
       "      <th>int_asin</th>\n",
       "    </tr>\n",
       "  </thead>\n",
       "  <tbody>\n",
       "    <tr>\n",
       "      <th>0</th>\n",
       "      <td>A1D4G1SNUZWQOT</td>\n",
       "      <td>7106116521</td>\n",
       "      <td>Exactly what I needed.</td>\n",
       "      <td>3542781409366088212</td>\n",
       "      <td>-1023968847620261250</td>\n",
       "    </tr>\n",
       "    <tr>\n",
       "      <th>1</th>\n",
       "      <td>A3DDWDH9PX2YX2</td>\n",
       "      <td>7106116521</td>\n",
       "      <td>I agree with the other review, the opening is ...</td>\n",
       "      <td>7794126572371518754</td>\n",
       "      <td>-1023968847620261250</td>\n",
       "    </tr>\n",
       "    <tr>\n",
       "      <th>2</th>\n",
       "      <td>A2MWC41EW7XL15</td>\n",
       "      <td>7106116521</td>\n",
       "      <td>Love these... I am going to order another pack...</td>\n",
       "      <td>6502180075840563236</td>\n",
       "      <td>-1023968847620261250</td>\n",
       "    </tr>\n",
       "    <tr>\n",
       "      <th>3</th>\n",
       "      <td>A2UH2QQ275NV45</td>\n",
       "      <td>7106116521</td>\n",
       "      <td>too tiny an opening</td>\n",
       "      <td>2230153209942701343</td>\n",
       "      <td>-1023968847620261250</td>\n",
       "    </tr>\n",
       "    <tr>\n",
       "      <th>4</th>\n",
       "      <td>A89F3LQADZBS5</td>\n",
       "      <td>7106116521</td>\n",
       "      <td>Okay</td>\n",
       "      <td>-5388597961924995754</td>\n",
       "      <td>-1023968847620261250</td>\n",
       "    </tr>\n",
       "  </tbody>\n",
       "</table>\n",
       "</div>"
      ],
      "text/plain": [
       "       reviewerID        asin  \\\n",
       "0  A1D4G1SNUZWQOT  7106116521   \n",
       "1  A3DDWDH9PX2YX2  7106116521   \n",
       "2  A2MWC41EW7XL15  7106116521   \n",
       "3  A2UH2QQ275NV45  7106116521   \n",
       "4   A89F3LQADZBS5  7106116521   \n",
       "\n",
       "                                          reviewText       int_reviewerID  \\\n",
       "0                             Exactly what I needed.  3542781409366088212   \n",
       "1  I agree with the other review, the opening is ...  7794126572371518754   \n",
       "2  Love these... I am going to order another pack...  6502180075840563236   \n",
       "3                                too tiny an opening  2230153209942701343   \n",
       "4                                               Okay -5388597961924995754   \n",
       "\n",
       "              int_asin  \n",
       "0 -1023968847620261250  \n",
       "1 -1023968847620261250  \n",
       "2 -1023968847620261250  \n",
       "3 -1023968847620261250  \n",
       "4 -1023968847620261250  "
      ]
     },
     "execution_count": 14,
     "metadata": {},
     "output_type": "execute_result"
    }
   ],
   "source": [
    "# Checking out the results \n",
    "df.head()"
   ]
  },
  {
   "cell_type": "markdown",
   "metadata": {},
   "source": [
    "**Observation:** Since the `asin` can be used to reference which items it represents in the `product_df`, we'll keep the old columns. From here, let's look closer at the `asin` column, as it will be used as the y in our train-test split to ensure that we are able to stratify the different products being reviewed. In order to do that though, we will need to drop any `asin` that only appear once, as y inputs need to have a population of more than one. "
   ]
  },
  {
   "cell_type": "code",
   "execution_count": 15,
   "metadata": {},
   "outputs": [],
   "source": [
    "# using group by and then .filter to remove and asin \n",
    "df = df.groupby('asin').filter(lambda x : len(x)>1)"
   ]
  },
  {
   "cell_type": "code",
   "execution_count": 16,
   "metadata": {},
   "outputs": [
    {
     "data": {
      "text/plain": [
       "(782414, 5)"
      ]
     },
     "execution_count": 16,
     "metadata": {},
     "output_type": "execute_result"
    }
   ],
   "source": [
    "# what is the new shape? \n",
    "df.shape"
   ]
  },
  {
   "cell_type": "markdown",
   "metadata": {},
   "source": [
    "### Exploratory Data Analysis "
   ]
  },
  {
   "cell_type": "markdown",
   "metadata": {},
   "source": [
    "Next, we'll do some EDA to find out more about the reviews dataset. "
   ]
  },
  {
   "cell_type": "code",
   "execution_count": 17,
   "metadata": {},
   "outputs": [
    {
     "data": {
      "text/plain": [
       "-8038823495558440352    35\n",
       " 7592335489524018495    32\n",
       "-634628144775687889     30\n",
       " 5395229027246828509    27\n",
       "-3011778053254539134    26\n",
       "                        ..\n",
       " 8078639246789624787     1\n",
       "-8406467454373992236     1\n",
       "-4828137268045064293     1\n",
       " 6938499401865350619     1\n",
       " 5554198708797292235     1\n",
       "Name: int_reviewerID, Length: 669500, dtype: int64"
      ]
     },
     "execution_count": 17,
     "metadata": {},
     "output_type": "execute_result"
    }
   ],
   "source": [
    "df['int_reviewerID'].value_counts()"
   ]
  },
  {
   "cell_type": "code",
   "execution_count": 24,
   "metadata": {},
   "outputs": [
    {
     "data": {
      "image/png": "[encoded data removed]",
      "text/plain": [
       "<Figure size 576x576 with 1 Axes>"
      ]
     },
     "metadata": {
      "needs_background": "light"
     },
     "output_type": "display_data"
    }
   ],
   "source": [
    "plt.figure(figsize = (8, 8))\n",
    "plt.title(\"Top Reviewers by ID\")\n",
    "plt.xlabel('Reviewer ID')\n",
    "plt.xticks(rotation= 90)\n",
    "plt.ylabel('Frequency')\n",
    "df['int_reviewerID'].value_counts()[:30].plot(kind = 'bar');"
   ]
  },
  {
   "cell_type": "markdown",
   "metadata": {},
   "source": [
    "**Observation:** The customer who left the most reviews left 35 reviews, the majority of reviewers only left a single review. "
   ]
  },
  {
   "cell_type": "code",
   "execution_count": 25,
   "metadata": {},
   "outputs": [
    {
     "data": {
      "text/plain": [
       "Series([], Name: asin, dtype: int64)"
      ]
     },
     "execution_count": 25,
     "metadata": {},
     "output_type": "execute_result"
    }
   ],
   "source": [
    "df['asin'].value_counts()"
   ]
  },
  {
   "cell_type": "code",
   "execution_count": 26,
   "metadata": {},
   "outputs": [
    {
     "data": {
      "text/html": [
       "<div>\n",
       "<style scoped>\n",
       "    .dataframe tbody tr th:only-of-type {\n",
       "        vertical-align: middle;\n",
       "    }\n",
       "\n",
       "    .dataframe tbody tr th {\n",
       "        vertical-align: top;\n",
       "    }\n",
       "\n",
       "    .dataframe thead th {\n",
       "        text-align: right;\n",
       "    }\n",
       "</style>\n",
       "<table border=\"1\" class=\"dataframe\">\n",
       "  <thead>\n",
       "    <tr style=\"text-align: right;\">\n",
       "      <th></th>\n",
       "      <th>title</th>\n",
       "      <th>image</th>\n",
       "      <th>brand</th>\n",
       "      <th>feature</th>\n",
       "      <th>rank</th>\n",
       "      <th>date</th>\n",
       "      <th>asin</th>\n",
       "      <th>description</th>\n",
       "      <th>price</th>\n",
       "      <th>also_view</th>\n",
       "      <th>also_buy</th>\n",
       "      <th>fit</th>\n",
       "      <th>details</th>\n",
       "      <th>similar_item</th>\n",
       "      <th>tech1</th>\n",
       "    </tr>\n",
       "  </thead>\n",
       "  <tbody>\n",
       "    <tr>\n",
       "      <th>3315</th>\n",
       "      <td>i play. Girls' Baby Brim Sun Protection Hat, A...</td>\n",
       "      <td>[https://images-na.ssl-images-amazon.com/image...</td>\n",
       "      <td>i play.</td>\n",
       "      <td>[Shipping Information:\\n                    \\n...</td>\n",
       "      <td></td>\n",
       "      <td>5 star5 star (0%)</td>\n",
       "      <td>B000P0X15G</td>\n",
       "      <td></td>\n",
       "      <td>$7.99 - $18.38</td>\n",
       "      <td></td>\n",
       "      <td></td>\n",
       "      <td>class=\"a-normal a-align-center a-spacing-smal...</td>\n",
       "      <td></td>\n",
       "      <td></td>\n",
       "      <td></td>\n",
       "    </tr>\n",
       "  </tbody>\n",
       "</table>\n",
       "</div>"
      ],
      "text/plain": [
       "                                                  title  \\\n",
       "3315  i play. Girls' Baby Brim Sun Protection Hat, A...   \n",
       "\n",
       "                                                  image    brand  \\\n",
       "3315  [https://images-na.ssl-images-amazon.com/image...  i play.   \n",
       "\n",
       "                                                feature rank  \\\n",
       "3315  [Shipping Information:\\n                    \\n...        \n",
       "\n",
       "                   date        asin description           price also_view  \\\n",
       "3315  5 star5 star (0%)  B000P0X15G              $7.99 - $18.38             \n",
       "\n",
       "     also_buy                                                fit details  \\\n",
       "3315            class=\"a-normal a-align-center a-spacing-smal...           \n",
       "\n",
       "     similar_item tech1  \n",
       "3315                     "
      ]
     },
     "execution_count": 26,
     "metadata": {},
     "output_type": "execute_result"
    }
   ],
   "source": [
    "what_is_its = (product_df['asin'] == 'B000P0X15G')\n",
    "product_df[what_is_its]"
   ]
  },
  {
   "cell_type": "markdown",
   "metadata": {},
   "source": [
    "Using the `asin` and the Product DataFrame, these are the 20 items with the most reviews. \n",
    "\n",
    "|`asin` |Number of Reviews| Product Name / title|\n",
    "|---|---|---|\n",
    "|B000V0IBDM| 4380 |Powerstep Pinnacle Orthotic Shoe Insoles|\n",
    "|B000KPIHQ4|4371 |Powerstep Pinnacle Orthotic Shoe Insoles |\n",
    "|B00I0VHS10|3884|90 Degree By Reflex Power Flex Yoga Capri | \n",
    "|B00RLSCLJM|3633|MJ Metals Jewelry 2mm to 10mm White Tungsten Carbide Mirror Polished Classic Wedding Ring | \n",
    "|B000PHANNM|2566 |i play. Baby Boys Flap Sun Protection Hat|\n",
    "|B000YFSR5G|2534 |Hanes Mens EcoSmart Fleece Sweatpant|\n",
    "|B00201ER88|2202|i play. by green sprouts Baby & Toddler Brim Sun Protection Hat |\n",
    "|B00GXE331K|2025|Best RFID Blocking Card Holder Case for Men|\n",
    "|B000P0X15G|1924|i play. Girls' Baby Brim Sun Protection Hat|\n",
    "|B00XT15P8E|1855|Marino Avenue Men’s Genuine Leather Ratchet Dress Belt|\n",
    "|B0017U1KBK|1826|Totes Kids Bubble Umbrella|\n",
    "|B005N7YWX6|1688|Ingrid & Isabel Women's Maternity Everyday Bellaband|\n",
    "|B004HX6P1E|1671|BodyJ4You 50PC Tongue Barbells Nipple Rings 14G Mix Acrylic Ball Steel Flexible Piercing Jewelry|\n",
    "|B000YFSR4W|1648|Hanes Mens EcoSmart Fleece Sweatpant|\n",
    "|B009RUKQ2G|1590|Scarleton Large Satchel H106801 - Black|\n",
    "|B000JOOR7O|1584|Vans Adult Classic Slip-On, (Checkerboard)|\n",
    "|B00ZW3SCF0|1522|Womens Crop Top Midi Skirt Outfit Two Piece Bodycon Bandage Dress|\n",
    "|B000GHRZN2|1415|Carhartt Men's Loose Fit Five Pocket Canvas Carpenter Jean|\n",
    "|B000GHMRLW|1415|Carhartt Men's Loose Fit Five Pocket CanvasCarpenter Jean|\n",
    "|B00XTM0ZPG|1405|WearMe Pro - Classic Half Frame Polarized Sunglasses|"
   ]
  },
  {
   "cell_type": "markdown",
   "metadata": {},
   "source": [
    "From examining the most frequently occuring `asin` we can see there is both Men's, Women's and Children's clothing products listed under the umbrella of Amazon Fashion. The dataset also includes items that are a little more broad, including shoe insoles, accessories, etc but still within the ready-to-wear category. "
   ]
  },
  {
   "cell_type": "code",
   "execution_count": 27,
   "metadata": {},
   "outputs": [
    {
     "data": {
      "image/png": "[encoded data removed]",
      "text/plain": [
       "<Figure size 576x576 with 1 Axes>"
      ]
     },
     "metadata": {
      "needs_background": "light"
     },
     "output_type": "display_data"
    }
   ],
   "source": [
    "plt.figure(figsize = (8, 8))\n",
    "plt.title(\"Top Items purchased\")\n",
    "plt.xlabel('Asin')\n",
    "plt.xticks(rotation= 90)\n",
    "plt.ylabel('Frequency')\n",
    "df['asin'].value_counts()[:30].plot(kind = 'bar');"
   ]
  },
  {
   "cell_type": "markdown",
   "metadata": {},
   "source": [
    "### Data Processing "
   ]
  },
  {
   "cell_type": "markdown",
   "metadata": {},
   "source": [
    "From here let's move into processing the `ReviewText` column to prep for modeling. We'll begin by lowercasing the text, then we'll expand any contractions, and then remove any non-letters. "
   ]
  },
  {
   "cell_type": "code",
   "execution_count": 18,
   "metadata": {},
   "outputs": [
    {
     "data": {
      "text/plain": [
       "0                               exactly what i needed.\n",
       "1    i agree with the other review, the opening is ...\n",
       "2    love these... i am going to order another pack...\n",
       "3                                  too tiny an opening\n",
       "4                                                 okay\n",
       "Name: reviewText, dtype: object"
      ]
     },
     "execution_count": 18,
     "metadata": {},
     "output_type": "execute_result"
    }
   ],
   "source": [
    "# We'll begin by lowercasing the reveiwText column\n",
    "df['reviewText'] = df['reviewText'].apply(lambda x: \" \".join(x.lower() for x in x.split()))\n",
    "df['reviewText'].head()"
   ]
  },
  {
   "cell_type": "code",
   "execution_count": 19,
   "metadata": {},
   "outputs": [],
   "source": [
    "# Next, we'll work on expanding the contradictions \n",
    "# I used this article on stack over flow for help with expanding contractions, which is where this edited list is from. \n",
    "# https://stackoverflow.com/questions/19790188/expanding-english-language-contractions-in-python\n",
    "contractions_dict = { \n",
    "        \"ain't\": \"am not \",\n",
    "        \"aren't\": \"are not / am not\",\n",
    "        \"can't\": \"cannot\",\n",
    "        \"can't've\": \"cannot have\",\n",
    "        \"'cause\": \"because\",\n",
    "        \"could've\": \"could have\",\n",
    "        \"couldn't\": \"could not\",\n",
    "        \"couldn't've\": \"could not have\",\n",
    "        \"didn't\": \"did not\",\n",
    "        \"doesn't\": \"does not\",\n",
    "        \"don't\": \"do not\",\n",
    "        \"hadn't\": \"had not\",\n",
    "        \"hasn't\": \"has not\",\n",
    "        \"haven't\": \"have not\",\n",
    "        \"he'd\": \"he would\", \n",
    "        \"he'll\": \"he will\",\n",
    "        \"he's\": \" he is\",\n",
    "        \"how'd\": \"how did\",\n",
    "        \"how'll\": \"how will\",\n",
    "        \"how's\": \"how is \",\n",
    "        \"I'd\": \"I would\",\n",
    "        \"I'll\": \"I will\",\n",
    "        \"I'm\": \"I am\",\n",
    "        \"I've\": \"I have\",\n",
    "        \"isn't\": \"is not\",\n",
    "        \"it'd\": \"it would\",\n",
    "        \"it'll\": \" it will\",\n",
    "        \"it's\": \"it has / it is\",\n",
    "        \"let's\": \"let us\",\n",
    "        \"ma'am\": \"madam\",\n",
    "        \"might've\": \"might have\",\n",
    "        \"mightn't\": \"might not\",\n",
    "        \"must've\": \"must have\",\n",
    "        \"mustn't\": \"must not\",\n",
    "        \"needn't\": \"need not\",\n",
    "        \"o'clock\": \"of the clock\",\n",
    "        \"oughtn't\": \"ought not\",\n",
    "        \"oughtn't've\": \"ought not have\",\n",
    "        \"she'd\": \"she would\",\n",
    "        \"she'd've\": \"she would have\",\n",
    "        \"she'll\": \"she will\",\n",
    "        \"she's\": \"she is\",\n",
    "        \"should've\": \"should have\",\n",
    "        \"shouldn't\": \"should not\",\n",
    "        \"so've\": \"so have\",\n",
    "        \"so's\": \"so is\",\n",
    "        \"that'd\": \"that would\",\n",
    "        \"that's\": \"that is\",\n",
    "        \"there'd\": \"there would\",\n",
    "        \"there's\": \"there is\",\n",
    "        \"they'd\": \"they would\",\n",
    "        \"they'll\": \"they will\",\n",
    "        \"they're\": \"they are\",\n",
    "        \"they've\": \"they have\",\n",
    "        \"wasn't\": \"was not\",\n",
    "        \"we'd\": \"we would\",\n",
    "        \"we'll\": \"we will\",\n",
    "        \"we're\": \"we are\",\n",
    "        \"we've\": \"we have\",\n",
    "        \"weren't\": \"were not\",\n",
    "        \"what'll\": \"what will\",\n",
    "        \"what're\": \"what are\",\n",
    "        \"what's\": \"what is\",\n",
    "        \"what've\": \"what have\",\n",
    "        \"when's\": \"when is\",\n",
    "        \"when've\": \"when have\",\n",
    "        \"where'd\": \"where did\",\n",
    "        \"where's\": \"where is\",\n",
    "        \"where've\": \"where have\",\n",
    "        \"who'll\": \"who will\",\n",
    "        \"who's\": \" who is\",\n",
    "        \"who've\": \"who have\",\n",
    "        \"why's\": \"why is\",\n",
    "        \"why've\": \"why have\",\n",
    "        \"will've\": \"will have\",\n",
    "        \"won't\": \"will not\",\n",
    "        \"would've\": \"would have\",\n",
    "        \"wouldn't\": \"would not\",\n",
    "        \"y'all\": \"you all\",\n",
    "        \"y'all'd\": \"you all would\",\n",
    "        \"y'all're\": \"you all are\",\n",
    "        \"y'all've\": \"you all have\",\n",
    "        \"you'd\": \"you would\",\n",
    "        \"you'd've\": \"you would have\",\n",
    "        \"you'll\": \"you will\",\n",
    "        \"you're\": \"you are\",\n",
    "        \"you've\": \"you have\",\n",
    "}\n",
    "contractions_re = re.compile('(%s)' % '|'.join(contractions_dict.keys()))"
   ]
  },
  {
   "cell_type": "code",
   "execution_count": 20,
   "metadata": {},
   "outputs": [],
   "source": [
    "# creating functions to replace the contractions found with their expansion.\n",
    "def replace(match): \n",
    "    return contractions_dict[match.group(0)]\\\n",
    "\n",
    "def expand_contractions(s , contractions_dict=contractions_dict):\n",
    "    return contractions_re.sub(replace, s)"
   ]
  },
  {
   "cell_type": "code",
   "execution_count": 21,
   "metadata": {},
   "outputs": [
    {
     "data": {
      "text/plain": [
       "0                               exactly what i needed.\n",
       "1    i agree with the other review, the opening is ...\n",
       "2    love these... i am going to order another pack...\n",
       "3                                  too tiny an opening\n",
       "4                                                 okay\n",
       "Name: reviewText, dtype: object"
      ]
     },
     "execution_count": 21,
     "metadata": {},
     "output_type": "execute_result"
    }
   ],
   "source": [
    "# apply function to the reviewText column\n",
    "df['reviewText'] = [expand_contractions(s, contractions_dict=contractions_dict) for s in df['reviewText']]\n",
    "df['reviewText'].head()"
   ]
  },
  {
   "cell_type": "code",
   "execution_count": 22,
   "metadata": {
    "scrolled": true
   },
   "outputs": [
    {
     "name": "stderr",
     "output_type": "stream",
     "text": [
      "<>:2: DeprecationWarning: invalid escape sequence \\w\n",
      "<>:2: DeprecationWarning: invalid escape sequence \\w\n",
      "<>:2: DeprecationWarning: invalid escape sequence \\w\n",
      "<ipython-input-22-14d930c105d3>:2: DeprecationWarning: invalid escape sequence \\w\n",
      "  df['reviewText'] =df['reviewText'].str.replace('[^\\w\\s]','')\n"
     ]
    },
    {
     "data": {
      "text/plain": [
       "0                                exactly what i needed\n",
       "1    i agree with the other review the opening is t...\n",
       "2    love these i am going to order another pack to...\n",
       "3                                  too tiny an opening\n",
       "4                                                 okay\n",
       "Name: reviewText, dtype: object"
      ]
     },
     "execution_count": 22,
     "metadata": {},
     "output_type": "execute_result"
    }
   ],
   "source": [
    "# Finally, we'll remove any non-letters\n",
    "df['reviewText'] =df['reviewText'].str.replace('[^\\w\\s]','')\n",
    "df['reviewText'].head()"
   ]
  },
  {
   "cell_type": "markdown",
   "metadata": {},
   "source": [
    "Now we will take our values to list, then tokenize them, remove any numbers and any words that are only one character long. And for now, what we do for training we'll do for our testing values as well. "
   ]
  },
  {
   "cell_type": "code",
   "execution_count": 23,
   "metadata": {},
   "outputs": [
    {
     "name": "stdout",
     "output_type": "stream",
     "text": [
      "[['exactly', 'what', 'needed']]\n"
     ]
    }
   ],
   "source": [
    "data = df['reviewText'].values.tolist()\n",
    "\n",
    "# Split the documents into tokens.\n",
    "tokenizer = RegexpTokenizer(r'\\w+')\n",
    "for idx in range(len(data)):\n",
    "    data[idx] = tokenizer.tokenize(data[idx])  # Split into words.\n",
    "\n",
    "# Remove numbers, but not words that contain numbers.\n",
    "data = [[token for token in doc if not token.isnumeric()] for doc in data]\n",
    "\n",
    "# Remove words that are only one character.\n",
    "data = [[token for token in doc if len(token) > 1] for doc in data]\n",
    "print(data[:1])"
   ]
  },
  {
   "cell_type": "code",
   "execution_count": 24,
   "metadata": {},
   "outputs": [],
   "source": [
    "# Next, we'll remove stopwords\n",
    "# first instanite english stopwords\n",
    "stop_words = stopwords.words('english')\n",
    "# Then remove stopwords\n",
    "data = [[word for word in text if word not in stop_words] for text in data]"
   ]
  },
  {
   "cell_type": "markdown",
   "metadata": {},
   "source": [
    "Next up is lemmatizing the data. According to the Gensim documentation, lemmatization is prefered over stemming because topic modeling is best preformed on readable words. "
   ]
  },
  {
   "cell_type": "code",
   "execution_count": 25,
   "metadata": {},
   "outputs": [],
   "source": [
    "# Lemmatize the documents.\n",
    "lemmatizer = WordNetLemmatizer()\n",
    "data = [[lemmatizer.lemmatize(token) for token in text] for text in data]"
   ]
  },
  {
   "cell_type": "markdown",
   "metadata": {},
   "source": [
    "Next up is to create bigrams and add then to our data. "
   ]
  },
  {
   "cell_type": "code",
   "execution_count": 26,
   "metadata": {},
   "outputs": [],
   "source": [
    "# Compute bigrams.\n",
    "# Add bigrams to docs (only ones that appear 20 times or more).\n",
    "bigram = Phrases(data, min_count=20)\n",
    "for text in range(len(data)):\n",
    "    for token in bigram[data[text]]:\n",
    "        if '_' in token:\n",
    "            # Token is a bigram, add to document.\n",
    "            data[text].append(token)"
   ]
  },
  {
   "cell_type": "code",
   "execution_count": 27,
   "metadata": {},
   "outputs": [],
   "source": [
    "df['reviewText_processed'] = data"
   ]
  },
  {
   "cell_type": "code",
   "execution_count": 28,
   "metadata": {},
   "outputs": [
    {
     "data": {
      "text/html": [
       "<div>\n",
       "<style scoped>\n",
       "    .dataframe tbody tr th:only-of-type {\n",
       "        vertical-align: middle;\n",
       "    }\n",
       "\n",
       "    .dataframe tbody tr th {\n",
       "        vertical-align: top;\n",
       "    }\n",
       "\n",
       "    .dataframe thead th {\n",
       "        text-align: right;\n",
       "    }\n",
       "</style>\n",
       "<table border=\"1\" class=\"dataframe\">\n",
       "  <thead>\n",
       "    <tr style=\"text-align: right;\">\n",
       "      <th></th>\n",
       "      <th>reviewerID</th>\n",
       "      <th>asin</th>\n",
       "      <th>reviewText</th>\n",
       "      <th>int_reviewerID</th>\n",
       "      <th>int_asin</th>\n",
       "      <th>reviewText_processed</th>\n",
       "    </tr>\n",
       "  </thead>\n",
       "  <tbody>\n",
       "    <tr>\n",
       "      <th>0</th>\n",
       "      <td>A1D4G1SNUZWQOT</td>\n",
       "      <td>7106116521</td>\n",
       "      <td>exactly what i needed</td>\n",
       "      <td>3542781409366088212</td>\n",
       "      <td>-1023968847620261250</td>\n",
       "      <td>[exactly, needed]</td>\n",
       "    </tr>\n",
       "    <tr>\n",
       "      <th>1</th>\n",
       "      <td>A3DDWDH9PX2YX2</td>\n",
       "      <td>7106116521</td>\n",
       "      <td>i agree with the other review the opening is t...</td>\n",
       "      <td>7794126572371518754</td>\n",
       "      <td>-1023968847620261250</td>\n",
       "      <td>[agree, review, opening, small, almost, bent, ...</td>\n",
       "    </tr>\n",
       "    <tr>\n",
       "      <th>2</th>\n",
       "      <td>A2MWC41EW7XL15</td>\n",
       "      <td>7106116521</td>\n",
       "      <td>love these i am going to order another pack to...</td>\n",
       "      <td>6502180075840563236</td>\n",
       "      <td>-1023968847620261250</td>\n",
       "      <td>[love, going, order, another, pack, keep, work...</td>\n",
       "    </tr>\n",
       "    <tr>\n",
       "      <th>3</th>\n",
       "      <td>A2UH2QQ275NV45</td>\n",
       "      <td>7106116521</td>\n",
       "      <td>too tiny an opening</td>\n",
       "      <td>2230153209942701343</td>\n",
       "      <td>-1023968847620261250</td>\n",
       "      <td>[tiny, opening]</td>\n",
       "    </tr>\n",
       "    <tr>\n",
       "      <th>4</th>\n",
       "      <td>A89F3LQADZBS5</td>\n",
       "      <td>7106116521</td>\n",
       "      <td>okay</td>\n",
       "      <td>-5388597961924995754</td>\n",
       "      <td>-1023968847620261250</td>\n",
       "      <td>[okay]</td>\n",
       "    </tr>\n",
       "  </tbody>\n",
       "</table>\n",
       "</div>"
      ],
      "text/plain": [
       "       reviewerID        asin  \\\n",
       "0  A1D4G1SNUZWQOT  7106116521   \n",
       "1  A3DDWDH9PX2YX2  7106116521   \n",
       "2  A2MWC41EW7XL15  7106116521   \n",
       "3  A2UH2QQ275NV45  7106116521   \n",
       "4   A89F3LQADZBS5  7106116521   \n",
       "\n",
       "                                          reviewText       int_reviewerID  \\\n",
       "0                              exactly what i needed  3542781409366088212   \n",
       "1  i agree with the other review the opening is t...  7794126572371518754   \n",
       "2  love these i am going to order another pack to...  6502180075840563236   \n",
       "3                                too tiny an opening  2230153209942701343   \n",
       "4                                               okay -5388597961924995754   \n",
       "\n",
       "              int_asin                               reviewText_processed  \n",
       "0 -1023968847620261250                                  [exactly, needed]  \n",
       "1 -1023968847620261250  [agree, review, opening, small, almost, bent, ...  \n",
       "2 -1023968847620261250  [love, going, order, another, pack, keep, work...  \n",
       "3 -1023968847620261250                                    [tiny, opening]  \n",
       "4 -1023968847620261250                                             [okay]  "
      ]
     },
     "execution_count": 28,
     "metadata": {},
     "output_type": "execute_result"
    }
   ],
   "source": [
    "df.head()"
   ]
  },
  {
   "cell_type": "code",
   "execution_count": 39,
   "metadata": {},
   "outputs": [],
   "source": [
    "#writing out the processed DF to work on clustering in another notebook. \n",
    "df.to_csv('./data/processed_data.csv', index=False)"
   ]
  },
  {
   "cell_type": "markdown",
   "metadata": {},
   "source": [
    "At this point it makes sense to do our train test split as we've fully processed the `reviewText` column for LDA modeling. "
   ]
  },
  {
   "cell_type": "code",
   "execution_count": 35,
   "metadata": {},
   "outputs": [],
   "source": [
    "# defining our X and Y variables, we won't be using our Y variables, as it's an unsupervised model. \n",
    "X = df[['reviewText','reviewText_processed', 'int_asin', 'int_reviewerID']]\n",
    "y = df['asin']  # I'm using the asin as my Y value so I can stratify my train/test split on it. \n",
    "\n",
    "X_train, X_test, y_train, y_test = train_test_split(X, y, train_size =.70, random_state = 42, stratify = y)"
   ]
  },
  {
   "cell_type": "code",
   "execution_count": 67,
   "metadata": {},
   "outputs": [
    {
     "data": {
      "text/plain": [
       "[['fit', 'grandson', 'perfectly', 'mths', 'old', 'small', 'mths', 'size']]"
      ]
     },
     "execution_count": 67,
     "metadata": {},
     "output_type": "execute_result"
    }
   ],
   "source": [
    "lda_train = X_train['reviewText_processed'].values.tolist()\n",
    "lda_train[:1]"
   ]
  },
  {
   "cell_type": "code",
   "execution_count": 68,
   "metadata": {},
   "outputs": [
    {
     "data": {
      "text/plain": [
       "[['purse',\n",
       "  'exactly',\n",
       "  'hoping',\n",
       "  'sturdy',\n",
       "  'great',\n",
       "  'zipper',\n",
       "  'feel',\n",
       "  'like',\n",
       "  'real',\n",
       "  'leather',\n",
       "  'great',\n",
       "  'value',\n",
       "  'price',\n",
       "  'paid',\n",
       "  'much',\n",
       "  'purse',\n",
       "  'satisfied',\n",
       "  'would',\n",
       "  'definitely',\n",
       "  'recommend',\n",
       "  'anyone',\n",
       "  'looking',\n",
       "  'stylish',\n",
       "  'sturdy',\n",
       "  'affordable',\n",
       "  'purse',\n",
       "  'real_leather',\n",
       "  'definitely_recommend']]"
      ]
     },
     "execution_count": 68,
     "metadata": {},
     "output_type": "execute_result"
    }
   ],
   "source": [
    "lda_test = X_test['reviewText_processed'].values.tolist()\n",
    "lda_test[:1]"
   ]
  },
  {
   "cell_type": "code",
   "execution_count": 69,
   "metadata": {},
   "outputs": [
    {
     "name": "stdout",
     "output_type": "stream",
     "text": [
      "Training Documents: 547689\n",
      "Testing Documents: 234725\n"
     ]
    }
   ],
   "source": [
    "print('Training Documents: %d' % len(lda_train))\n",
    "print('Testing Documents: %d' % len(lda_test))"
   ]
  },
  {
   "cell_type": "markdown",
   "metadata": {},
   "source": [
    "From here, we're going to use the training data to create a dictionary and do one last bit of cleaning to remove any outliers or words that occur too freqently. Then we'll create our corpus  to be use to train our model on. "
   ]
  },
  {
   "cell_type": "code",
   "execution_count": 73,
   "metadata": {},
   "outputs": [],
   "source": [
    "# Create a dictionary representation of the documents.\n",
    "dictionary = Dictionary(lda_train)\n",
    "\n",
    "# Filter out words that occur less than 20 documents, or more than 50% of the documents.\n",
    "dictionary.filter_extremes(no_below=20, no_above=0.5)"
   ]
  },
  {
   "cell_type": "code",
   "execution_count": 74,
   "metadata": {},
   "outputs": [],
   "source": [
    "# creating our corpus or our bag of words for the data. \n",
    "corpus = [dictionary.doc2bow(text) for text in lda_train]\n",
    "\n",
    "pickle.dump(corpus, open('./data/corpus.pkl', 'wb'))\n",
    "dictionary.save('./data/dictionary.gensim')"
   ]
  },
  {
   "cell_type": "code",
   "execution_count": 75,
   "metadata": {},
   "outputs": [
    {
     "name": "stdout",
     "output_type": "stream",
     "text": [
      "Number of unique tokens: 11478\n",
      "Number of documents: 547689\n"
     ]
    }
   ],
   "source": [
    "# Checking out how many tokens we have and how many documents. \n",
    "print('Number of unique tokens: %d' % len(dictionary))\n",
    "print('Number of documents: %d' % len(corpus))\n"
   ]
  },
  {
   "cell_type": "code",
   "execution_count": 52,
   "metadata": {},
   "outputs": [
    {
     "data": {
      "text/plain": [
       "[(0, 1), (1, 1), (2, 1), (3, 1), (4, 1), (5, 1)]"
      ]
     },
     "execution_count": 52,
     "metadata": {},
     "output_type": "execute_result"
    }
   ],
   "source": [
    "corpus[0]"
   ]
  },
  {
   "cell_type": "markdown",
   "metadata": {},
   "source": [
    "### LDA Modeling "
   ]
  },
  {
   "cell_type": "markdown",
   "metadata": {},
   "source": [
    "From here we'll begin our topic modeling. As previously mentioned, we'll be using the Gensim Python library to do our modeling. We'll begin by finding the $c_{v}$ coherence score and preplexity score for a range of topic numbers to find which number of topics makes the most sense based on the scores. "
   ]
  },
  {
   "cell_type": "code",
   "execution_count": 53,
   "metadata": {},
   "outputs": [],
   "source": [
    "# For this section of the project I got help from the book Natural Language Processing Fundamentals (Ghosh & Gunning)\n",
    "# creating function to calculate cohenerence of the models \n",
    "def calculate_coherence_score(documents, dictionary, model): \n",
    "    coherence_model = CoherenceModel(model = model,          # all provided when calling the function\n",
    "                                    texts = documents, \n",
    "                                    dictionary = dictionary, \n",
    "                                    coherence = 'c_v')      # using 'c_v' as my coherence score it's measured between 0-1\n",
    "    return coherence_model.get_coherence()\n",
    "\n",
    "# then we'll create another function to find coherence scores for a range of topic numbers \n",
    "def get_coherence_values(start, stop): \n",
    "    for num_topics in range(start, stop):\n",
    "        print(f'\\nCalculating coherence for {num_topics} topics')\n",
    "        # here is where we're instatiating this LDA model, using the corpus we created with the training data\n",
    "        ldamodel = LdaModel(corpus,                   # training data    \n",
    "                            num_topics = num_topics,  # looping through set number of topics \n",
    "                            id2word= dictionary,      # words in training data\n",
    "                            chunksize = 20_000,       # number of documents processed at a time, quite high to reduce training time\n",
    "                            passes = 8,              # passes = epochs, lower to speed up results\n",
    "                            eval_every = None)        # this is time intensive, so turning off \n",
    "        coherence = calculate_coherence_score(lda_train,   # calling the calculate_coherence_score with the data and dictionary we've created\n",
    "                                              dictionary, \n",
    "                                              ldamodel)\n",
    "        print('\\nPerplexity:', ldamodel.log_perplexity(corpus)) # print out the preplexity score of each model\n",
    "        yield coherence   # yeilding that topic number's coherence and looping back through till we finish the range"
   ]
  },
  {
   "cell_type": "code",
   "execution_count": 54,
   "metadata": {
    "scrolled": false
   },
   "outputs": [
    {
     "name": "stdout",
     "output_type": "stream",
     "text": [
      "\n",
      "Calculating coherence for 5 topics\n",
      "\n",
      "Perplexity: -7.086162663421977\n",
      "\n",
      "Calculating coherence for 6 topics\n",
      "\n",
      "Perplexity: -7.084259156792643\n",
      "\n",
      "Calculating coherence for 7 topics\n",
      "\n",
      "Perplexity: -7.090258215415431\n",
      "\n",
      "Calculating coherence for 8 topics\n",
      "\n",
      "Perplexity: -7.09581667444592\n",
      "\n",
      "Calculating coherence for 9 topics\n",
      "\n",
      "Perplexity: -7.115370335915739\n",
      "\n",
      "Calculating coherence for 10 topics\n",
      "\n",
      "Perplexity: -7.158175081257228\n",
      "\n",
      "Calculating coherence for 11 topics\n",
      "\n",
      "Perplexity: -7.1961967545746415\n",
      "\n",
      "Calculating coherence for 12 topics\n",
      "\n",
      "Perplexity: -7.2090458108949464\n",
      "\n",
      "Calculating coherence for 13 topics\n",
      "\n",
      "Perplexity: -7.226585557426354\n",
      "\n",
      "Calculating coherence for 14 topics\n",
      "\n",
      "Perplexity: -7.2317192107903425\n"
     ]
    }
   ],
   "source": [
    "# setting topic mins and maxs\n",
    "min_topics, max_topics = 5, 15\n",
    "# finding the coherence scores for our topics range. \n",
    "coherence_scores= list(get_coherence_values(min_topics, max_topics))"
   ]
  },
  {
   "cell_type": "markdown",
   "metadata": {},
   "source": [
    "Now that we've calculated the coherence $c_{v}$ score and perplexity scores let's dicuss what those metrics actually mean. According to Sayed and Spruit(2017) the coherence $c_{v}$ is based on four parts: \n",
    "1. segementation of the data into word pairs\n",
    "2. calculation of word or word pair proababilities \n",
    "3. calculation of a confirmation measure that quantifies how strongly a word set supports another word set\n",
    "4. Finally, aggregation of individual confirmation measures into an overall coherence score.  \n",
    "\n",
    "Coherence $c_{v}$ scores are measured from 0-1. \n",
    "\n",
    "As for perplexity, it is a measure of how well a probability model predicts a sample. The formula for evaluating testing data is: \n",
    "$per(D_{test})=exp\\{-\\frac{\\sum_{d=1}^{M}\\log p(\\mathbb{w}_d)}{\\sum_{d=1}^{M}N_d}\\}$\n",
    "\n",
    "A lower preplexity score indicates better generalized performace. Perplexity is inversley related to the log-likelihood. Thus, higher the log-likelihood, lower the perplexity. This is the metric we will focus on to judge the models performance on our testing data. \n",
    "\n"
   ]
  },
  {
   "cell_type": "code",
   "execution_count": 56,
   "metadata": {},
   "outputs": [
    {
     "data": {
      "text/plain": [
       "Text(0.5, 1.0, 'Coherence Scores')"
      ]
     },
     "execution_count": 56,
     "metadata": {},
     "output_type": "execute_result"
    },
    {
     "data": {
      "image/png": "[encoded data removed]",
      "text/plain": [
       "<Figure size 720x576 with 1 Axes>"
      ]
     },
     "metadata": {},
     "output_type": "display_data"
    }
   ],
   "source": [
    "# Again, I got help from this section from the book Natural Language Processing Fundamentals (Ghosh & Gunning)\n",
    "# Setting plot style and figsize \n",
    "\n",
    "style.use('fivethirtyeight')\n",
    "ax = plt.figure(figsize =(10, 8))\n",
    "\n",
    "# creating the x values, the number of topics \n",
    "x = [int(i) for i in range(min_topics, max_topics)]\n",
    "\n",
    "# plotting our x and coherence_scores \n",
    "plt.plot(x, coherence_scores)\n",
    "plt.xticks(x)\n",
    "plt.xlabel('Number of Topics')\n",
    "plt.ylabel('Coherence Value')\n",
    "plt.title('Coherence Scores', fontsize = 10)"
   ]
  },
  {
   "cell_type": "markdown",
   "metadata": {},
   "source": [
    "From the graph we can see our highest coherence score was at 10 topics. We'll now run that model to interpret the different topics. "
   ]
  },
  {
   "cell_type": "code",
   "execution_count": 61,
   "metadata": {},
   "outputs": [],
   "source": [
    "# Creating the working LDA model with correct number of topics. \n",
    "ldamodel = LdaModel(corpus,          \n",
    "                    num_topics = 10,\n",
    "                    id2word= dictionary,\n",
    "                    chunksize= 20_000,\n",
    "                    alpha='auto',         # auto-tuning Alpha parameter\n",
    "                    eta='auto',           # auto-tuning Eta parameter \n",
    "                    passes = 20,\n",
    "                    eval_every = None )\n",
    "# saving model \n",
    "ldamodel.save('model.gensim')"
   ]
  },
  {
   "cell_type": "markdown",
   "metadata": {},
   "source": [
    "We'll find the coherence and perplexity score for our training model. "
   ]
  },
  {
   "cell_type": "code",
   "execution_count": 65,
   "metadata": {},
   "outputs": [
    {
     "name": "stderr",
     "output_type": "stream",
     "text": [
      "/opt/anaconda3/envs/dsi/lib/python3.7/site-packages/gensim/topic_coherence/text_analysis.py:449: DeprecationWarning: The 'warn' method is deprecated, use 'warning' instead\n",
      "  logger.warn(\"stats accumulation interrupted; <= %d documents processed\", self._num_docs)\n"
     ]
    },
    {
     "data": {
      "text/plain": [
       "0.6594434321524035"
      ]
     },
     "execution_count": 65,
     "metadata": {},
     "output_type": "execute_result"
    }
   ],
   "source": [
    "coherence_model_lda = CoherenceModel(model=ldamodel, texts=lda_train, dictionary=dictionary, coherence='c_v')\n",
    "coherence_lda = coherence_model_lda.get_coherence()\n",
    "coherence_lda  "
   ]
  },
  {
   "cell_type": "code",
   "execution_count": 67,
   "metadata": {},
   "outputs": [
    {
     "name": "stdout",
     "output_type": "stream",
     "text": [
      "\n",
      "Perplexity: -7.089086219735926\n"
     ]
    }
   ],
   "source": [
    "print('\\nPerplexity:', ldamodel.log_perplexity(ldamodel))"
   ]
  },
  {
   "cell_type": "markdown",
   "metadata": {},
   "source": [
    "Now, we'll find the scores for the testing data. First, we just need to create the corpus for the testing data. "
   ]
  },
  {
   "cell_type": "code",
   "execution_count": 85,
   "metadata": {},
   "outputs": [],
   "source": [
    "other_corpus = [dictionary.doc2bow(text) for text in lda_test]\n",
    "\n",
    "pickle.dump(corpus, open('./data/other_corpus.pkl', 'wb'))\n",
    "dictionary.save('dictionary.gensim')\n"
   ]
  },
  {
   "cell_type": "code",
   "execution_count": 90,
   "metadata": {},
   "outputs": [
    {
     "name": "stdout",
     "output_type": "stream",
     "text": [
      "\n",
      "Perplexity:  -7.104853018662892\n",
      "\n",
      "Coherence Score:  0.6636613799197868\n"
     ]
    }
   ],
   "source": [
    "# Compute Perplexity\n",
    "print('\\nTesting Perplexity: ', lda.log_perplexity(other_corpus))  # a measure of how good the model is. lower the better.\n",
    "\n",
    "# Compute Coherence Score\n",
    "coherence_model_lda = CoherenceModel(model=lda, texts=lda_test, dictionary=dictionary, coherence='c_v')\n",
    "coherence_lda = coherence_model_lda.get_coherence()\n",
    "print('\\nTesting Coherence Score: ', coherence_lda)"
   ]
  },
  {
   "cell_type": "markdown",
   "metadata": {},
   "source": [
    "Our model actually performed better on the testing data then the training data, I believe this is due to the imbalance in the number of documents trained on vs. the number tested on. "
   ]
  },
  {
   "cell_type": "markdown",
   "metadata": {},
   "source": [
    "Next, we'll retrive the topic vectors. "
   ]
  },
  {
   "cell_type": "code",
   "execution_count": 76,
   "metadata": {},
   "outputs": [],
   "source": [
    "# creating for look to find the topic vectors for each input\n",
    "train_vecs = []\n",
    "for i in range(len(lda_train)):\n",
    "    top_topics = lda.get_document_topics(corpus[i], minimum_probability=0.0)\n",
    "    topic_vec = [top_topics[i][1] for i in range(10)]\n",
    "    train_vecs.append(topic_vec)"
   ]
  },
  {
   "cell_type": "code",
   "execution_count": 77,
   "metadata": {},
   "outputs": [
    {
     "data": {
      "text/plain": [
       "547689"
      ]
     },
     "execution_count": 77,
     "metadata": {},
     "output_type": "execute_result"
    }
   ],
   "source": [
    "# how many vectors? \n",
    "len(train_vecs)"
   ]
  },
  {
   "cell_type": "code",
   "execution_count": 78,
   "metadata": {},
   "outputs": [
    {
     "data": {
      "text/plain": [
       "[0.04536262,\n",
       " 0.021848572,\n",
       " 0.02352208,\n",
       " 0.015930317,\n",
       " 0.017118761,\n",
       " 0.09425244,\n",
       " 0.24352369,\n",
       " 0.19526112,\n",
       " 0.32740048,\n",
       " 0.015779905]"
      ]
     },
     "execution_count": 78,
     "metadata": {},
     "output_type": "execute_result"
    }
   ],
   "source": [
    "# checking out the first vector. \n",
    "train_vecs[0]"
   ]
  },
  {
   "cell_type": "code",
   "execution_count": 103,
   "metadata": {},
   "outputs": [],
   "source": [
    "# writing this data to CSV \n",
    "with open('./data/train_vecs.csv','w') as train_vec:\n",
    "    wr = csv.writer(train_vec, dialect='excel')\n",
    "    wr.writerow(train_vecs)"
   ]
  },
  {
   "cell_type": "markdown",
   "metadata": {},
   "source": [
    "### Topic Interpretation"
   ]
  },
  {
   "cell_type": "markdown",
   "metadata": {},
   "source": [
    "From there we'll use the pyLDAvis tool to look at the different topics. "
   ]
  },
  {
   "cell_type": "code",
   "execution_count": 91,
   "metadata": {},
   "outputs": [],
   "source": [
    "lda = LdaModel.load('model.gensim')"
   ]
  },
  {
   "cell_type": "code",
   "execution_count": null,
   "metadata": {},
   "outputs": [],
   "source": [
    "corpus = "
   ]
  },
  {
   "cell_type": "code",
   "execution_count": 92,
   "metadata": {},
   "outputs": [],
   "source": [
    "lda_display = pyLDAvis.gensim.prepare(lda, corpus, dictionary)"
   ]
  },
  {
   "cell_type": "code",
   "execution_count": 93,
   "metadata": {
    "scrolled": true
   },
   "outputs": [
    {
     "data": {
      "text/html": [
       "\n",
       "<link rel=\"stylesheet\" type=\"text/css\" href=\"https://cdn.rawgit.com/bmabey/pyLDAvis/files/ldavis.v1.0.0.css\">\n",
       "\n",
       "\n",
       "<div id=\"ldavis_el292313544194522408433757515\"></div>\n",
       "<script type=\"text/javascript\">\n",
       "\n",
       "var ldavis_el292313544194522408433757515_data = {\"mdsDat\": {\"x\": [-0.08148324351997373, -0.24221659921269675, -0.18855223109651426, -0.21088768764681953, 0.020894836950756602, 0.06571872055810746, 0.18773268940528282, 0.1731861804958651, 0.23597538619926925, 0.03963194786672303], \"y\": [-0.02328394389006911, -0.015371362152308344, -0.05383069995388086, -0.02746537589643218, -0.15011430974014303, -0.025934273553441942, -0.11243023195956771, 0.0005631496565921037, -0.0604896339274843, 0.46835668141673487], \"topics\": [1, 2, 3, 4, 5, 6, 7, 8, 9, 10], \"cluster\": [1, 1, 1, 1, 1, 1, 1, 1, 1, 1], \"Freq\": [22.417064666748047, 22.0274600982666, 19.175704956054688, 8.118273735046387, 6.594525337219238, 5.438846111297607, 4.61177921295166, 3.9866833686828613, 3.986539602279663, 3.643120765686035]}, \"tinfo\": {\"Term\": [\"like\", \"love\", \"size\", \"great\", \"look\", \"fit\", \"small\", \"good\", \"nice\", \"one\", \"quality\", \"bought\", \"color\", \"perfect\", \"ordered\", \"picture\", \"cute\", \"loved\", \"well\", \"material\", \"hat\", \"ring\", \"price\", \"daughter\", \"shoe\", \"pair\", \"cheap\", \"bag\", \"large\", \"im\", \"first\", \"star\", \"week\", \"sock\", \"never\", \"broke\", \"took\", \"ever\", \"away\", \"already\", \"wait\", \"waste\", \"package\", \"fell\", \"sent\", \"customer\", \"broken\", \"soon\", \"within\", \"send\", \"waste_money\", \"started\", \"cannot_wait\", \"amazon\", \"opened\", \"refund\", \"minute\", \"immediately\", \"every_day\", \"customer_service\", \"one\", \"time\", \"cannot\", \"every\", \"day\", \"reason\", \"money\", \"back\", \"know\", \"worth\", \"company\", \"ive\", \"get\", \"take\", \"put\", \"couple\", \"another\", \"tried\", \"thing\", \"far\", \"two\", \"give\", \"could\", \"wearing\", \"want\", \"even\", \"use\", \"would\", \"say\", \"bought\", \"got\", \"came\", \"wear\", \"buy\", \"great\", \"good\", \"super\", \"nice\", \"perfect\", \"compliment\", \"awesome\", \"fast\", \"super_cute\", \"love\", \"amazing\", \"thank\", \"described\", \"expected\", \"thanks\", \"delivery\", \"many_compliment\", \"satisfied\", \"lot_compliment\", \"happy_purchase\", \"definitely_recommend\", \"fast_shipping\", \"earlier\", \"price\", \"arrived_quickly\", \"reasonable\", \"fast_delivery\", \"gown\", \"pleased_purchase\", \"fabulous\", \"quality\", \"comfy\", \"pleased\", \"happy\", \"well\", \"cute\", \"wonderful\", \"value\", \"comfortable\", \"beautiful\", \"soft\", \"recommend\", \"really\", \"lot\", \"absolutely\", \"color\", \"many\", \"pretty\", \"fit\", \"product\", \"looking\", \"perfectly\", \"purchase\", \"definitely\", \"made\", \"look\", \"shirt\", \"work\", \"buy\", \"wear\", \"dress\", \"size\", \"small\", \"large\", \"medium\", \"run\", \"bigger\", \"suit\", \"xl\", \"usually\", \"sizing\", \"normally\", \"lb\", \"chest\", \"true_size\", \"larger\", \"chart\", \"bust\", \"usually_wear\", \"normally_wear\", \"pound\", \"bathing\", \"bathing_suit\", \"xxl\", \"size_chart\", \"measurement\", \"ran\", \"boob\", \"petite\", \"tad\", \"im_lb\", \"ordered\", \"smaller\", \"big\", \"arm\", \"snug\", \"tight\", \"short\", \"bit\", \"bottom\", \"tall\", \"true\", \"top\", \"sleeve\", \"way\", \"im\", \"order\", \"little\", \"woman\", \"fine\", \"dress\", \"though\", \"fit\", \"wear\", \"still\", \"would\", \"long\", \"shirt\", \"picture\", \"cheap\", \"ok\", \"shown\", \"cheaply\", \"advertised\", \"cheaply_made\", \"horrible\", \"photo\", \"flimsy\", \"pic\", \"pictured\", \"get_pay\", \"poorly\", \"awful\", \"hoped\", \"ugly\", \"exactly_wanted\", \"poorly_made\", \"image\", \"picture_show\", \"fell_apart\", \"exactly_pictured\", \"wig\", \"shown_picture\", \"nicer\", \"thru\", \"fall_apart\", \"expecting\", \"dont\", \"like\", \"nothing\", \"thin\", \"terrible\", \"weird\", \"looked\", \"kind\", \"bad\", \"kinda\", \"description\", \"show\", \"pay\", \"person\", \"model\", \"look\", \"better\", \"material\", \"okay\", \"see\", \"made\", \"fabric\", \"disappointed\", \"seems\", \"feel\", \"real\", \"exactly\", \"much\", \"front\", \"pant\", \"wash\", \"leg\", \"honest\", \"legging\", \"exchange\", \"washed\", \"cotton\", \"discount\", \"washing\", \"opinion\", \"belly\", \"underwear\", \"tank\", \"unbiased\", \"exchange_honest\", \"shrink\", \"discounted\", \"tights\", \"long_enough\", \"roll\", \"panty\", \"yoga\", \"crotch\", \"pregnant\", \"tummy\", \"honest_review\", \"product_discount\", \"tank_top\", \"dryer\", \"elastic\", \"bra\", \"review\", \"high\", \"ride\", \"dry\", \"jean\", \"skin\", \"band\", \"enough\", \"waist\", \"also\", \"fabric\", \"received\", \"product\", \"feel\", \"around\", \"wear\", \"long\", \"ring\", \"necklace\", \"bracelet\", \"earring\", \"chain\", \"blue\", \"red\", \"gold\", \"stone\", \"jewelry\", \"bright\", \"silver\", \"green\", \"scarf\", \"pink\", \"match\", \"dark\", \"charm\", \"pendant\", \"beat\", \"bead\", \"vibrant\", \"purple\", \"yellow\", \"diamond\", \"cannot_beat\", \"sparkle\", \"darker\", \"heart\", \"orange\", \"wrist\", \"white\", \"black\", \"metal\", \"finger\", \"band\", \"piece\", \"color\", \"set\", \"ear\", \"wedding\", \"beautiful\", \"pretty\", \"bag\", \"belt\", \"pocket\", \"wallet\", \"purse\", \"card\", \"leather\", \"zipper\", \"carry\", \"phone\", \"buckle\", \"poor_quality\", \"credit\", \"key\", \"handle\", \"compartment\", \"travel\", \"expectation\", \"credit_card\", \"halloween_costume\", \"cash\", \"slot\", \"backpack\", \"holder\", \"exactly_described\", \"pleasantly\", \"carrying\", \"pleasantly_surprised\", \"handbag\", \"book\", \"space\", \"excellent\", \"hold\", \"plenty\", \"case\", \"inside\", \"strap\", \"high_quality\", \"poor\", \"use\", \"room\", \"high\", \"need\", \"enough\", \"easy\", \"side\", \"stuff\", \"shoe\", \"pair\", \"foot\", \"watch\", \"glass\", \"boot\", \"highly\", \"highly_recommend\", \"sunglass\", \"lens\", \"heel\", \"pain\", \"recommended\", \"toe\", \"arch\", \"insole\", \"another_pair\", \"hurt\", \"year_ago\", \"hard_find\", \"battery\", \"plantar\", \"arch_support\", \"sandal\", \"last_year\", \"second_pair\", \"fasciitis\", \"orthotics\", \"highly_recommended\", \"sole\", \"insert\", \"support\", \"walking\", \"frame\", \"brand\", \"ago\", \"working\", \"walk\", \"year\", \"comfort\", \"running\", \"last\", \"work\", \"case\", \"recommend\", \"hat\", \"warm\", \"head\", \"baby\", \"tie\", \"sun\", \"glove\", \"winter\", \"hair\", \"light_weight\", \"weather\", \"velcro\", \"cap\", \"brim\", \"pool\", \"umbrella\", \"mask\", \"diaper\", \"wet\", \"robe\", \"headband\", \"rain\", \"wind\", \"cozy\", \"hood\", \"stay_place\", \"mitten\", \"newborn\", \"around_neck\", \"tighten\", \"protection\", \"stay\", \"job\", \"adjustable\", \"cold\", \"face\", \"keep\", \"hot\", \"coat\", \"ear\", \"neck\", \"light\", \"weight\", \"around\", \"hand\", \"cover\", \"water\", \"enough\", \"loved\", \"daughter\", \"gift\", \"old\", \"husband\", \"year_old\", \"adorable\", \"wife\", \"christmas\", \"halloween\", \"party\", \"birthday\", \"granddaughter\", \"mom\", \"sister\", \"grandson\", \"niece\", \"boyfriend\", \"mother\", \"present\", \"girlfriend\", \"pjs\", \"yr\", \"christmas_gift\", \"yr_old\", \"young\", \"dad\", \"brother\", \"teen\", \"grand\", \"costume\", \"friend\", \"boy\", \"son\", \"month_old\", \"age\", \"year\", \"kid\", \"school\", \"adult\", \"bought\", \"gave\", \"month\", \"girl\", \"child\", \"purchased\"], \"Freq\": [97883.0, 110928.0, 95969.0, 99394.0, 75995.0, 132949.0, 67132.0, 63558.0, 58188.0, 60233.0, 53929.0, 35937.0, 43223.0, 43636.0, 39865.0, 25649.0, 46681.0, 18445.0, 52526.0, 37325.0, 18214.0, 19644.0, 37517.0, 16925.0, 17333.0, 17125.0, 20893.0, 16685.0, 30717.0, 45560.0, 16787.779296875, 10760.681640625, 10314.8671875, 8948.4248046875, 7780.544921875, 7367.2802734375, 7204.423828125, 6827.2802734375, 5734.138671875, 5151.26220703125, 4273.35009765625, 4230.31689453125, 4083.993896484375, 3943.119384765625, 3449.470947265625, 3448.242431640625, 3144.1201171875, 3045.33251953125, 2968.68896484375, 2679.510986328125, 2582.488525390625, 2961.91845703125, 2352.373779296875, 7219.10888671875, 2151.851318359375, 1989.729248046875, 1970.59619140625, 1925.402099609375, 1836.6929931640625, 1828.744140625, 59481.8828125, 34103.52734375, 15053.23046875, 8139.43896484375, 21078.404296875, 3543.300537109375, 11038.876953125, 21639.947265625, 9591.3662109375, 10174.2705078125, 4742.00439453125, 13200.58203125, 36709.71875, 8670.73046875, 13639.0224609375, 4657.43603515625, 10769.044921875, 6471.6748046875, 12579.8095703125, 6853.791015625, 12473.8896484375, 9938.677734375, 15854.37890625, 12828.146484375, 10063.966796875, 16930.439453125, 12598.6748046875, 28027.701171875, 9733.529296875, 15274.30078125, 13680.9482421875, 10697.607421875, 14582.509765625, 10976.2236328125, 99393.796875, 63556.84375, 19408.0546875, 58184.953125, 43633.92578125, 11355.7578125, 8610.1943359375, 7790.89794921875, 6730.2783203125, 110913.171875, 6467.8603515625, 6144.01171875, 4632.88427734375, 28755.353515625, 4523.6103515625, 3775.9326171875, 3277.21875, 3212.67529296875, 2857.138427734375, 2704.1025390625, 2245.996337890625, 2151.7109375, 1634.9283447265625, 37490.33984375, 1080.3353271484375, 1092.1175537109375, 888.84716796875, 857.9351806640625, 842.4633178710938, 830.133544921875, 53582.9375, 7039.4443359375, 6334.96826171875, 15468.6298828125, 50791.9453125, 45171.45703125, 3332.395751953125, 3277.921630859375, 28475.97265625, 23029.875, 15627.3828125, 16734.482421875, 39422.26171875, 14650.06640625, 8799.876953125, 33513.23046875, 9475.6005859375, 20684.361328125, 79324.2421875, 26141.33984375, 15166.0947265625, 13471.53515625, 11898.7822265625, 12471.8271484375, 21366.3515625, 33559.8828125, 19034.005859375, 16078.0595703125, 15759.9814453125, 17218.033203125, 15227.2021484375, 95968.3125, 67131.109375, 30716.154296875, 16056.6123046875, 15197.326171875, 9552.98828125, 9375.2294921875, 8646.73046875, 7709.85107421875, 7268.12353515625, 5944.2568359375, 5133.4892578125, 4695.4267578125, 4664.5810546875, 10649.80078125, 4052.91162109375, 3450.26513671875, 3260.33203125, 3200.40576171875, 2747.854248046875, 2636.662841796875, 2527.339111328125, 2482.373291015625, 2438.041748046875, 2209.711181640625, 2085.8515625, 2030.2249755859375, 1968.12548828125, 1774.1016845703125, 1716.075927734375, 39826.73828125, 12870.927734375, 27807.8203125, 6237.84326171875, 5769.3740234375, 15844.0185546875, 16690.884765625, 23802.251953125, 12485.474609375, 3540.519775390625, 7850.318359375, 25570.701171875, 7027.1640625, 24891.09375, 36551.01171875, 16100.32421875, 36608.94140625, 6344.98779296875, 8639.4072265625, 26178.189453125, 11436.173828125, 53624.26953125, 31529.7265625, 15034.91015625, 25906.5546875, 13211.833984375, 11676.357421875, 25648.78515625, 20892.189453125, 8146.4501953125, 3555.602294921875, 3349.846923828125, 3073.7841796875, 3008.57666015625, 2921.450927734375, 6714.95947265625, 2559.526123046875, 2479.160400390625, 5649.35205078125, 2370.57421875, 2001.1025390625, 1563.02783203125, 1451.2294921875, 1359.34228515625, 1240.9632568359375, 1194.64990234375, 1533.265380859375, 1154.3355712890625, 1096.00537109375, 1069.0345458984375, 969.2137451171875, 915.8167114257812, 1071.7442626953125, 883.540771484375, 717.513427734375, 3644.719482421875, 619.81640625, 95922.7265625, 6483.24951171875, 13173.6044921875, 2595.27734375, 3245.576416015625, 8686.3564453125, 5320.98876953125, 7296.23388671875, 2290.07763671875, 3149.00634765625, 5930.10986328125, 4269.91650390625, 4732.765625, 2331.1923828125, 42075.66796875, 11290.2314453125, 21981.779296875, 3291.2900390625, 8671.779296875, 12268.1689453125, 7757.90283203125, 4757.47705078125, 4204.05859375, 5553.61669921875, 3721.884765625, 4284.830078125, 4078.948486328125, 3357.215576171875, 12959.7353515625, 7527.55908203125, 5792.65771484375, 5465.5888671875, 5449.56640625, 4604.10986328125, 4164.6513671875, 4050.766845703125, 3387.38330078125, 3151.462158203125, 2999.018798828125, 2701.474365234375, 2625.675537109375, 2486.739990234375, 2368.92724609375, 2033.611572265625, 2003.054931640625, 1775.7119140625, 1764.9024658203125, 1761.441650390625, 1547.7196044921875, 1405.5670166015625, 1292.9365234375, 1179.593994140625, 1174.2205810546875, 1152.70751953125, 1146.32763671875, 1138.5281982421875, 1131.4476318359375, 1098.3524169921875, 3469.15771484375, 5506.49267578125, 10042.083984375, 4341.62158203125, 1346.2373046875, 2274.546142578125, 2590.444091796875, 2059.324462890625, 3074.491943359375, 3359.087158203125, 2719.773681640625, 3420.771728515625, 3113.20703125, 2905.326171875, 3356.053955078125, 2815.227294921875, 2511.000244140625, 2718.0458984375, 2495.462646484375, 19643.244140625, 8933.701171875, 7712.12548828125, 6670.59716796875, 6530.025390625, 5875.98779296875, 4514.31494140625, 4498.82080078125, 4187.6298828125, 4113.9384765625, 3814.46044921875, 3745.229736328125, 3687.68603515625, 3573.8095703125, 3524.802978515625, 3304.078369140625, 3116.978271484375, 2490.8212890625, 1996.65234375, 1964.552734375, 1940.8948974609375, 1612.22998046875, 1602.1209716796875, 1593.093017578125, 1566.5474853515625, 1327.23583984375, 1287.89892578125, 1249.122314453125, 1215.72265625, 1163.59521484375, 3694.728759765625, 6432.90380859375, 8761.7646484375, 3410.68310546875, 3142.09375, 4348.6982421875, 4292.982421875, 9704.146484375, 2918.718994140625, 2673.53662109375, 2181.7978515625, 2482.9482421875, 2374.93994140625, 16684.853515625, 11765.1279296875, 11254.7783203125, 10106.7021484375, 7738.40673828125, 7313.94384765625, 7202.95068359375, 6341.56103515625, 3807.779296875, 3284.714599609375, 2630.395751953125, 2238.659423828125, 1952.9095458984375, 1842.3118896484375, 1674.9237060546875, 1638.3172607421875, 1635.3240966796875, 1565.6951904296875, 1533.667724609375, 1391.2706298828125, 1352.610107421875, 1274.819580078125, 1237.5462646484375, 1237.75634765625, 1002.8533935546875, 996.736083984375, 934.4528198242188, 906.046142578125, 870.4585571289062, 844.9319458007812, 1670.525146484375, 7117.63525390625, 7814.4794921875, 1601.7264404296875, 4296.3701171875, 4331.013671875, 5205.373046875, 2268.445556640625, 2127.718017578125, 3873.70947265625, 2300.167236328125, 2624.957763671875, 2744.024658203125, 2462.011474609375, 2073.90966796875, 1920.0133056640625, 1702.664306640625, 17332.83203125, 17124.337890625, 10221.1923828125, 9260.908203125, 8690.13671875, 6046.7978515625, 5429.8837890625, 3829.35107421875, 3674.509033203125, 2803.267333984375, 2742.12841796875, 2526.22021484375, 2416.608642578125, 2312.4130859375, 1921.134521484375, 1825.0274658203125, 1207.8260498046875, 1406.452880859375, 1096.858154296875, 1048.764892578125, 1012.2278442382812, 1004.1795043945312, 991.02099609375, 976.9774169921875, 905.4039306640625, 877.5150146484375, 780.4194946289062, 753.7767333984375, 748.3502807617188, 734.514404296875, 1725.1533203125, 3818.101318359375, 1752.572021484375, 2015.521240234375, 3445.624267578125, 1759.2218017578125, 1496.9671630859375, 1457.791015625, 4059.658935546875, 1442.9261474609375, 1293.2982177734375, 2054.261474609375, 2832.25830078125, 1757.36474609375, 1971.5830078125, 18213.115234375, 9637.0068359375, 8577.255859375, 7265.13623046875, 5975.267578125, 4164.15869140625, 4067.0234375, 3047.981689453125, 2907.328857421875, 2505.72900390625, 2126.34375, 1868.5650634765625, 1687.3558349609375, 1613.6185302734375, 1555.3572998046875, 1522.671630859375, 1493.6915283203125, 1446.0760498046875, 1417.0142822265625, 1312.559814453125, 1226.661376953125, 1186.8912353515625, 1082.51025390625, 975.355712890625, 854.8673095703125, 835.75830078125, 807.8875732421875, 793.9325561523438, 715.6967163085938, 693.3345336914062, 1368.4993896484375, 6164.45654296875, 3030.965576171875, 2515.121337890625, 2588.8017578125, 3198.8955078125, 7951.888671875, 2453.396484375, 2479.184326171875, 3006.092529296875, 2390.968017578125, 3097.46923828125, 2631.814453125, 3207.485595703125, 2292.088134765625, 2028.2314453125, 1763.8681640625, 1760.9368896484375, 18444.6484375, 16924.39453125, 14882.3203125, 14870.990234375, 7964.3076171875, 7475.22265625, 6101.54248046875, 5802.67333984375, 4606.2138671875, 3425.391845703125, 3036.456298828125, 2953.530029296875, 2817.775634765625, 2362.7412109375, 2159.259765625, 1984.0316162109375, 1778.2015380859375, 1657.7501220703125, 1558.4920654296875, 1543.92041015625, 1244.3056640625, 1166.889404296875, 1130.5035400390625, 1079.490478515625, 965.5357055664062, 914.5765380859375, 754.0352172851562, 730.2724609375, 711.4171142578125, 670.1526489257812, 8953.4052734375, 6850.6513671875, 2274.339111328125, 10131.1337890625, 2345.174560546875, 1196.3641357421875, 13196.0556640625, 3864.45361328125, 1908.71240234375, 1861.1165771484375, 13279.7470703125, 4178.50439453125, 3985.566650390625, 2646.92333984375, 2035.0994873046875, 2223.936279296875], \"Total\": [97883.0, 110928.0, 95969.0, 99394.0, 75995.0, 132949.0, 67132.0, 63558.0, 58188.0, 60233.0, 53929.0, 35937.0, 43223.0, 43636.0, 39865.0, 25649.0, 46681.0, 18445.0, 52526.0, 37325.0, 18214.0, 19644.0, 37517.0, 16925.0, 17333.0, 17125.0, 20893.0, 16685.0, 30717.0, 45560.0, 16788.681640625, 10761.58203125, 10315.767578125, 8949.32421875, 7781.44482421875, 7368.18017578125, 7205.32373046875, 6828.228515625, 5735.03857421875, 5152.162109375, 4274.25, 4231.216796875, 4084.893798828125, 3944.01904296875, 3450.370849609375, 3449.142333984375, 3145.019775390625, 3046.232421875, 2969.5888671875, 2680.41064453125, 2583.38818359375, 2962.962890625, 2353.273681640625, 7221.98876953125, 2152.751220703125, 1990.62890625, 1971.495849609375, 1926.3017578125, 1837.5926513671875, 1829.643798828125, 60233.76953125, 34349.46484375, 15132.759765625, 8147.1416015625, 21444.23828125, 3548.435302734375, 11256.4775390625, 22436.3671875, 9789.3505859375, 10419.5478515625, 4788.42919921875, 13730.8994140625, 39845.17578125, 9089.5205078125, 14711.4892578125, 4760.26953125, 11736.5361328125, 6798.52392578125, 14378.9755859375, 7267.5908203125, 14338.33203125, 11404.830078125, 22127.544921875, 16870.060546875, 12319.59765625, 26455.400390625, 18544.087890625, 69086.953125, 12560.3486328125, 35937.51953125, 32460.84765625, 17557.748046875, 66414.859375, 26789.439453125, 99394.703125, 63558.72265625, 19408.955078125, 58188.328125, 43636.765625, 11356.6591796875, 8611.095703125, 7791.79931640625, 6731.1796875, 110928.7265625, 6468.7939453125, 6144.9130859375, 4633.78564453125, 28761.05078125, 4524.51171875, 3776.833740234375, 3278.11962890625, 3213.582763671875, 2858.039306640625, 2705.003662109375, 2246.8974609375, 2152.61181640625, 1635.8292236328125, 37517.94921875, 1081.2362060546875, 1093.1380615234375, 889.7481079101562, 858.8362426757812, 843.3643188476562, 831.0346069335938, 53929.49609375, 7056.734375, 6348.99267578125, 15662.8603515625, 52526.1171875, 46681.3828125, 3370.955810546875, 3327.812255859375, 31682.65625, 25513.623046875, 17232.08984375, 18895.29296875, 47819.41015625, 16530.1640625, 9587.78515625, 43223.046875, 10649.3427734375, 26535.373046875, 132949.28125, 36213.71875, 18653.89453125, 16434.25, 14535.869140625, 15631.400390625, 33936.49609375, 75995.9140625, 32314.9296875, 24512.51171875, 26789.439453125, 66414.859375, 42879.12109375, 95969.21875, 67132.015625, 30717.056640625, 16057.5146484375, 15198.228515625, 9553.8916015625, 9376.1328125, 8647.6328125, 7710.75341796875, 7269.02587890625, 5945.1591796875, 5134.3916015625, 4696.32861328125, 4665.4833984375, 10652.1552734375, 4053.81396484375, 3451.16748046875, 3261.234375, 3201.30810546875, 2748.756591796875, 2637.565185546875, 2528.241455078125, 2483.275390625, 2438.944091796875, 2210.613525390625, 2086.75390625, 2031.127197265625, 1969.0277099609375, 1775.00390625, 1716.9781494140625, 39865.4296875, 12880.8837890625, 28049.3125, 6241.7421875, 5781.703125, 16070.087890625, 16976.63671875, 24370.400390625, 12758.5859375, 3557.04736328125, 8028.77392578125, 27714.859375, 7258.23876953125, 27551.431640625, 45560.3125, 18796.45703125, 48252.84765625, 6750.7216796875, 9862.7138671875, 42879.12109375, 15001.919921875, 132949.28125, 66414.859375, 24080.73046875, 69086.953125, 22064.658203125, 32314.9296875, 25649.68359375, 20893.087890625, 8147.34814453125, 3556.499755859375, 3350.744140625, 3074.681640625, 3009.473876953125, 2922.34814453125, 6717.0986328125, 2560.43017578125, 2480.057861328125, 5651.40283203125, 2371.471435546875, 2002.0001220703125, 1563.9254150390625, 1452.1270751953125, 1360.2398681640625, 1241.86083984375, 1195.5474853515625, 1534.4310302734375, 1155.233154296875, 1096.9029541015625, 1069.93212890625, 970.111328125, 916.7142333984375, 1072.8189697265625, 884.4382934570312, 718.4109497070312, 3649.69287109375, 620.7139282226562, 97883.84375, 6498.41455078125, 13323.2626953125, 2599.05078125, 3303.946533203125, 9955.232421875, 5919.01904296875, 8416.986328125, 2430.365234375, 3458.2470703125, 7015.04345703125, 4888.01416015625, 5494.0166015625, 2490.588623046875, 75995.9140625, 16538.810546875, 37325.015625, 3846.076416015625, 16994.482421875, 33936.49609375, 17909.216796875, 10492.21875, 7907.39990234375, 20970.822265625, 6004.29150390625, 13366.806640625, 26650.955078125, 6219.4951171875, 12960.6376953125, 7528.46142578125, 5793.56005859375, 5466.4912109375, 5450.49951171875, 4605.0126953125, 4165.5537109375, 4051.668701171875, 3388.28515625, 3152.364013671875, 2999.952880859375, 2702.376220703125, 2626.577392578125, 2487.641845703125, 2369.8291015625, 2034.5135498046875, 2003.9569091796875, 1776.6138916015625, 1765.804443359375, 1762.3436279296875, 1548.62158203125, 1406.468994140625, 1293.8385009765625, 1180.4959716796875, 1175.12255859375, 1153.6094970703125, 1147.2296142578125, 1139.43017578125, 1132.349609375, 1099.25439453125, 3532.751953125, 7326.6103515625, 21633.61328125, 8212.892578125, 1454.69970703125, 3331.82861328125, 5224.05712890625, 3445.819091796875, 8269.6357421875, 13913.0625, 10668.6162109375, 25183.314453125, 17909.216796875, 17923.396484375, 36213.71875, 20970.822265625, 15862.759765625, 66414.859375, 22064.658203125, 19644.14453125, 8934.6015625, 7713.0263671875, 6671.498046875, 6530.92626953125, 5876.88916015625, 4515.21630859375, 4499.72216796875, 4188.53076171875, 4114.83935546875, 3815.36181640625, 3746.130859375, 3688.58740234375, 3574.7109375, 3525.704345703125, 3304.981201171875, 3117.879638671875, 2491.722412109375, 1997.5535888671875, 1965.4539794921875, 1941.796142578125, 1613.1312255859375, 1603.022216796875, 1593.9942626953125, 1567.44873046875, 1328.1370849609375, 1288.8001708984375, 1250.0235595703125, 1216.6239013671875, 1164.4964599609375, 3808.749267578125, 7405.38916015625, 11058.9833984375, 4115.78759765625, 3806.45703125, 8269.6357421875, 9636.8779296875, 43223.046875, 6528.41943359375, 5680.4296875, 4313.6611328125, 25513.623046875, 26535.373046875, 16685.759765625, 11766.033203125, 11255.68359375, 10107.607421875, 7739.31201171875, 7314.84912109375, 7203.8564453125, 6342.46630859375, 3808.684814453125, 3285.6201171875, 2631.30126953125, 2239.56494140625, 1953.81494140625, 1843.2174072265625, 1675.8292236328125, 1639.22265625, 1636.2296142578125, 1566.6007080078125, 1534.5731201171875, 1392.17626953125, 1353.5155029296875, 1275.7249755859375, 1238.45166015625, 1238.661865234375, 1003.7589111328125, 997.6416015625, 935.3582763671875, 906.95166015625, 871.364013671875, 845.83740234375, 1673.4061279296875, 7668.17236328125, 9966.0283203125, 1847.20068359375, 6721.63720703125, 7048.8251953125, 9627.4921875, 3042.6904296875, 3775.11572265625, 18544.087890625, 5154.95361328125, 8212.892578125, 15030.611328125, 13913.0625, 10242.0556640625, 10776.5244140625, 2535.658935546875, 17333.73828125, 17125.244140625, 10222.095703125, 9261.8115234375, 8691.0400390625, 6047.70166015625, 5430.78759765625, 3830.2548828125, 3675.412841796875, 2804.171142578125, 2743.0322265625, 2527.1240234375, 2417.512451171875, 2313.31689453125, 1922.0382080078125, 1825.93115234375, 1208.729736328125, 1407.585693359375, 1097.761962890625, 1049.668701171875, 1013.131591796875, 1005.0831909179688, 991.9246826171875, 977.8812255859375, 906.3078002929688, 878.4187622070312, 781.3231811523438, 754.680419921875, 749.2540283203125, 735.4181518554688, 1880.9010009765625, 5288.77099609375, 2069.83251953125, 2484.643310546875, 5674.978515625, 2459.942626953125, 2075.775634765625, 2117.921875, 17272.720703125, 2131.38916015625, 1893.9007568359375, 8127.400390625, 24512.51171875, 6721.63720703125, 18895.29296875, 18214.017578125, 9637.908203125, 8578.1572265625, 7266.037109375, 5976.16845703125, 4165.0595703125, 4067.924560546875, 3048.8828125, 2908.22998046875, 2506.630126953125, 2127.244873046875, 1869.4661865234375, 1688.2569580078125, 1614.51953125, 1556.2584228515625, 1523.57275390625, 1494.5926513671875, 1446.9771728515625, 1417.9154052734375, 1313.4609375, 1227.5625, 1187.7923583984375, 1083.411376953125, 976.2567749023438, 855.7683715820312, 836.6593627929688, 808.7886352539062, 794.8336791992188, 716.5978393554688, 694.2455444335938, 1433.65087890625, 7413.98388671875, 3612.602783203125, 2969.50146484375, 3212.280517578125, 4387.3388671875, 14608.595703125, 3289.904296875, 3746.240234375, 5680.4296875, 4724.9375, 10714.3701171875, 7445.73974609375, 15862.759765625, 6375.9033203125, 6207.84130859375, 3124.3037109375, 13913.0625, 18445.548828125, 16925.294921875, 14883.2216796875, 14871.8916015625, 7965.2109375, 7476.12353515625, 6102.443359375, 5803.57470703125, 4607.11474609375, 3426.29296875, 3037.357421875, 2954.43115234375, 2818.6767578125, 2363.642333984375, 2160.160888671875, 1984.9326171875, 1779.1026611328125, 1658.6512451171875, 1559.3931884765625, 1544.821533203125, 1245.206787109375, 1167.79052734375, 1131.404541015625, 1080.3914794921875, 966.4367065429688, 915.4776611328125, 754.936279296875, 731.173583984375, 712.3182373046875, 671.0537109375, 8986.05078125, 6868.287109375, 2277.491943359375, 10316.42578125, 2488.7138671875, 1218.801513671875, 17272.720703125, 4421.57470703125, 2108.0390625, 2084.383544921875, 35937.51953125, 7022.1884765625, 13479.359375, 6509.99951171875, 4250.97607421875, 12640.6640625], \"Category\": [\"Default\", \"Default\", \"Default\", \"Default\", \"Default\", \"Default\", \"Default\", \"Default\", \"Default\", \"Default\", \"Default\", \"Default\", \"Default\", \"Default\", \"Default\", \"Default\", \"Default\", \"Default\", \"Default\", \"Default\", \"Default\", \"Default\", \"Default\", \"Default\", \"Default\", \"Default\", \"Default\", \"Default\", \"Default\", \"Default\", \"Topic1\", \"Topic1\", \"Topic1\", \"Topic1\", \"Topic1\", \"Topic1\", \"Topic1\", \"Topic1\", \"Topic1\", \"Topic1\", \"Topic1\", \"Topic1\", \"Topic1\", \"Topic1\", \"Topic1\", \"Topic1\", \"Topic1\", \"Topic1\", \"Topic1\", \"Topic1\", \"Topic1\", \"Topic1\", \"Topic1\", \"Topic1\", \"Topic1\", \"Topic1\", \"Topic1\", \"Topic1\", \"Topic1\", \"Topic1\", \"Topic1\", \"Topic1\", \"Topic1\", \"Topic1\", \"Topic1\", \"Topic1\", \"Topic1\", \"Topic1\", \"Topic1\", \"Topic1\", \"Topic1\", \"Topic1\", \"Topic1\", \"Topic1\", \"Topic1\", \"Topic1\", \"Topic1\", \"Topic1\", \"Topic1\", \"Topic1\", \"Topic1\", \"Topic1\", \"Topic1\", \"Topic1\", \"Topic1\", \"Topic1\", \"Topic1\", \"Topic1\", \"Topic1\", \"Topic1\", \"Topic1\", \"Topic1\", \"Topic1\", \"Topic1\", \"Topic2\", \"Topic2\", \"Topic2\", \"Topic2\", \"Topic2\", \"Topic2\", \"Topic2\", \"Topic2\", \"Topic2\", \"Topic2\", \"Topic2\", \"Topic2\", \"Topic2\", \"Topic2\", \"Topic2\", \"Topic2\", \"Topic2\", \"Topic2\", \"Topic2\", \"Topic2\", \"Topic2\", \"Topic2\", \"Topic2\", \"Topic2\", \"Topic2\", \"Topic2\", \"Topic2\", \"Topic2\", \"Topic2\", \"Topic2\", \"Topic2\", \"Topic2\", \"Topic2\", \"Topic2\", \"Topic2\", \"Topic2\", \"Topic2\", \"Topic2\", \"Topic2\", \"Topic2\", \"Topic2\", \"Topic2\", \"Topic2\", \"Topic2\", \"Topic2\", \"Topic2\", \"Topic2\", \"Topic2\", \"Topic2\", \"Topic2\", \"Topic2\", \"Topic2\", \"Topic2\", \"Topic2\", \"Topic2\", \"Topic2\", \"Topic2\", \"Topic2\", \"Topic2\", \"Topic2\", \"Topic2\", \"Topic3\", \"Topic3\", \"Topic3\", \"Topic3\", \"Topic3\", \"Topic3\", \"Topic3\", \"Topic3\", \"Topic3\", \"Topic3\", \"Topic3\", \"Topic3\", \"Topic3\", \"Topic3\", \"Topic3\", \"Topic3\", \"Topic3\", \"Topic3\", \"Topic3\", \"Topic3\", \"Topic3\", \"Topic3\", \"Topic3\", \"Topic3\", \"Topic3\", \"Topic3\", \"Topic3\", \"Topic3\", \"Topic3\", \"Topic3\", \"Topic3\", \"Topic3\", \"Topic3\", \"Topic3\", \"Topic3\", \"Topic3\", \"Topic3\", \"Topic3\", \"Topic3\", \"Topic3\", \"Topic3\", \"Topic3\", \"Topic3\", \"Topic3\", \"Topic3\", \"Topic3\", \"Topic3\", \"Topic3\", \"Topic3\", \"Topic3\", \"Topic3\", \"Topic3\", \"Topic3\", \"Topic3\", \"Topic3\", \"Topic3\", \"Topic3\", \"Topic4\", \"Topic4\", \"Topic4\", \"Topic4\", \"Topic4\", \"Topic4\", \"Topic4\", \"Topic4\", \"Topic4\", \"Topic4\", \"Topic4\", \"Topic4\", \"Topic4\", \"Topic4\", \"Topic4\", \"Topic4\", \"Topic4\", \"Topic4\", \"Topic4\", \"Topic4\", \"Topic4\", \"Topic4\", \"Topic4\", \"Topic4\", \"Topic4\", \"Topic4\", \"Topic4\", \"Topic4\", \"Topic4\", \"Topic4\", \"Topic4\", \"Topic4\", \"Topic4\", \"Topic4\", \"Topic4\", \"Topic4\", \"Topic4\", \"Topic4\", \"Topic4\", \"Topic4\", \"Topic4\", \"Topic4\", \"Topic4\", \"Topic4\", \"Topic4\", \"Topic4\", \"Topic4\", \"Topic4\", \"Topic4\", \"Topic4\", \"Topic4\", \"Topic4\", \"Topic4\", \"Topic4\", \"Topic4\", \"Topic4\", \"Topic4\", \"Topic4\", \"Topic5\", \"Topic5\", \"Topic5\", \"Topic5\", \"Topic5\", \"Topic5\", \"Topic5\", \"Topic5\", \"Topic5\", \"Topic5\", \"Topic5\", \"Topic5\", \"Topic5\", \"Topic5\", \"Topic5\", \"Topic5\", \"Topic5\", \"Topic5\", \"Topic5\", \"Topic5\", \"Topic5\", \"Topic5\", \"Topic5\", \"Topic5\", \"Topic5\", \"Topic5\", \"Topic5\", \"Topic5\", \"Topic5\", \"Topic5\", \"Topic5\", \"Topic5\", \"Topic5\", \"Topic5\", \"Topic5\", \"Topic5\", \"Topic5\", \"Topic5\", \"Topic5\", \"Topic5\", \"Topic5\", \"Topic5\", \"Topic5\", \"Topic5\", \"Topic5\", \"Topic5\", \"Topic5\", \"Topic5\", \"Topic5\", \"Topic6\", \"Topic6\", \"Topic6\", \"Topic6\", \"Topic6\", \"Topic6\", \"Topic6\", \"Topic6\", \"Topic6\", \"Topic6\", \"Topic6\", \"Topic6\", \"Topic6\", \"Topic6\", \"Topic6\", \"Topic6\", \"Topic6\", \"Topic6\", \"Topic6\", \"Topic6\", \"Topic6\", \"Topic6\", \"Topic6\", \"Topic6\", \"Topic6\", \"Topic6\", \"Topic6\", \"Topic6\", \"Topic6\", \"Topic6\", \"Topic6\", \"Topic6\", \"Topic6\", \"Topic6\", \"Topic6\", \"Topic6\", \"Topic6\", \"Topic6\", \"Topic6\", \"Topic6\", \"Topic6\", \"Topic6\", \"Topic6\", \"Topic7\", \"Topic7\", \"Topic7\", \"Topic7\", \"Topic7\", \"Topic7\", \"Topic7\", \"Topic7\", \"Topic7\", \"Topic7\", \"Topic7\", \"Topic7\", \"Topic7\", \"Topic7\", \"Topic7\", \"Topic7\", \"Topic7\", \"Topic7\", \"Topic7\", \"Topic7\", \"Topic7\", \"Topic7\", \"Topic7\", \"Topic7\", \"Topic7\", \"Topic7\", \"Topic7\", \"Topic7\", \"Topic7\", \"Topic7\", \"Topic7\", \"Topic7\", \"Topic7\", \"Topic7\", \"Topic7\", \"Topic7\", \"Topic7\", \"Topic7\", \"Topic7\", \"Topic7\", \"Topic7\", \"Topic7\", \"Topic7\", \"Topic7\", \"Topic7\", \"Topic7\", \"Topic7\", \"Topic8\", \"Topic8\", \"Topic8\", \"Topic8\", \"Topic8\", \"Topic8\", \"Topic8\", \"Topic8\", \"Topic8\", \"Topic8\", \"Topic8\", \"Topic8\", \"Topic8\", \"Topic8\", \"Topic8\", \"Topic8\", \"Topic8\", \"Topic8\", \"Topic8\", \"Topic8\", \"Topic8\", \"Topic8\", \"Topic8\", \"Topic8\", \"Topic8\", \"Topic8\", \"Topic8\", \"Topic8\", \"Topic8\", \"Topic8\", \"Topic8\", \"Topic8\", \"Topic8\", \"Topic8\", \"Topic8\", \"Topic8\", \"Topic8\", \"Topic8\", \"Topic8\", \"Topic8\", \"Topic8\", \"Topic8\", \"Topic8\", \"Topic8\", \"Topic8\", \"Topic9\", \"Topic9\", \"Topic9\", \"Topic9\", \"Topic9\", \"Topic9\", \"Topic9\", \"Topic9\", \"Topic9\", \"Topic9\", \"Topic9\", \"Topic9\", \"Topic9\", \"Topic9\", \"Topic9\", \"Topic9\", \"Topic9\", \"Topic9\", \"Topic9\", \"Topic9\", \"Topic9\", \"Topic9\", \"Topic9\", \"Topic9\", \"Topic9\", \"Topic9\", \"Topic9\", \"Topic9\", \"Topic9\", \"Topic9\", \"Topic9\", \"Topic9\", \"Topic9\", \"Topic9\", \"Topic9\", \"Topic9\", \"Topic9\", \"Topic9\", \"Topic9\", \"Topic9\", \"Topic9\", \"Topic9\", \"Topic9\", \"Topic9\", \"Topic9\", \"Topic9\", \"Topic9\", \"Topic9\", \"Topic10\", \"Topic10\", \"Topic10\", \"Topic10\", \"Topic10\", \"Topic10\", \"Topic10\", \"Topic10\", \"Topic10\", \"Topic10\", \"Topic10\", \"Topic10\", \"Topic10\", \"Topic10\", \"Topic10\", \"Topic10\", \"Topic10\", \"Topic10\", \"Topic10\", \"Topic10\", \"Topic10\", \"Topic10\", \"Topic10\", \"Topic10\", \"Topic10\", \"Topic10\", \"Topic10\", \"Topic10\", \"Topic10\", \"Topic10\", \"Topic10\", \"Topic10\", \"Topic10\", \"Topic10\", \"Topic10\", \"Topic10\", \"Topic10\", \"Topic10\", \"Topic10\", \"Topic10\", \"Topic10\", \"Topic10\", \"Topic10\", \"Topic10\", \"Topic10\", \"Topic10\"], \"logprob\": [30.0, 29.0, 28.0, 27.0, 26.0, 25.0, 24.0, 23.0, 22.0, 21.0, 20.0, 19.0, 18.0, 17.0, 16.0, 15.0, 14.0, 13.0, 12.0, 11.0, 10.0, 9.0, 8.0, 7.0, 6.0, 5.0, 4.0, 3.0, 2.0, 1.0, -4.645100116729736, -5.089900016784668, -5.132199764251709, -5.2743000984191895, -5.414100170135498, -5.468699932098389, -5.491099834442139, -5.5447998046875, -5.719299793243408, -5.826499938964844, -6.013400077819824, -6.023499965667725, -6.058700084686279, -6.093800067901611, -6.227499961853027, -6.22790002822876, -6.320199966430664, -6.352200031280518, -6.377600193023682, -6.480100154876709, -6.517000198364258, -6.379899978637695, -6.610300064086914, -5.488999843597412, -6.699399948120117, -6.7778000831604, -6.787399768829346, -6.8105998039245605, -6.857800006866455, -6.862100124359131, -3.3801000118255615, -3.9363999366760254, -4.754199981689453, -5.36899995803833, -4.417500019073486, -6.200699806213379, -5.064300060272217, -4.391200065612793, -5.204899787902832, -5.145899772644043, -5.909299850463867, -4.885499954223633, -3.8626999855041504, -5.305799961090088, -4.852799892425537, -5.927299976348877, -5.089099884033203, -5.598299980163574, -4.933700084686279, -5.540999889373779, -4.9421000480651855, -5.169300079345703, -4.702300071716309, -4.914100170135498, -5.156799793243408, -4.636600017547607, -4.932199954986572, -4.132599830627441, -5.190199851989746, -4.73960018157959, -4.849800109863281, -5.095699787139893, -4.785900115966797, -5.070000171661377, -2.849100112915039, -3.296299934387207, -4.482500076293945, -3.3845999240875244, -3.6723999977111816, -5.018499851226807, -5.295300006866455, -5.395299911499023, -5.541600227355957, -2.739500045776367, -5.581399917602539, -5.632800102233887, -5.914999961853027, -4.089399814605713, -5.938899993896484, -6.11959981918335, -6.261199951171875, -6.281099796295166, -6.398399829864502, -6.453499794006348, -6.639100074768066, -6.682000160217285, -6.956600189208984, -3.8241000175476074, -7.370999813079834, -7.360099792480469, -7.566100120544434, -7.601500034332275, -7.619699954986572, -7.634399890899658, -3.4670000076293945, -5.496699810028076, -5.602099895477295, -4.709400177001953, -3.5204999446868896, -3.6377999782562256, -6.244500160217285, -6.261000156402588, -4.0991997718811035, -4.311399936676025, -4.69920015335083, -4.630799770355225, -3.773900032043457, -4.763800144195557, -5.273499965667725, -3.936300039291382, -5.19950008392334, -4.418900012969971, -3.074700117111206, -4.184700012207031, -4.7291998863220215, -4.847599983215332, -4.971799850463867, -4.924799919128418, -4.38640022277832, -3.9349000453948975, -4.501999855041504, -4.67080020904541, -4.690800189971924, -4.60230016708374, -4.725100040435791, -2.7455999851226807, -3.1029000282287598, -3.8847999572753906, -4.5335001945495605, -4.588500022888184, -5.052700042724609, -5.071499824523926, -5.152400016784668, -5.267099857330322, -5.326099872589111, -5.527200222015381, -5.673799991607666, -5.763000011444092, -5.769599914550781, -4.943999767303467, -5.910099983215332, -6.071100234985352, -6.127799987792969, -6.146299839019775, -6.298799991607666, -6.340099811553955, -6.382400035858154, -6.400400161743164, -6.418399810791016, -6.51669979095459, -6.574399948120117, -6.601399898529053, -6.632500171661377, -6.736299991607666, -6.769499778747559, -3.625, -4.7546000480651855, -3.984299898147583, -5.478899955749512, -5.557000160217285, -4.546800136566162, -4.494699954986572, -4.139800071716309, -4.784999847412109, -6.045300006866455, -5.249000072479248, -4.0680999755859375, -5.359799861907959, -4.095099925994873, -3.710900068283081, -4.530700206756592, -3.7093000411987305, -5.461900234222412, -5.153200149536133, -4.0447001457214355, -4.872799873352051, -3.3276000022888184, -3.8587000370025635, -4.5991997718811035, -4.055099964141846, -4.728499889373779, -4.8520002365112305, -3.2056000232696533, -3.4107000827789307, -4.352499961853027, -5.18149995803833, -5.241099834442139, -5.327099800109863, -5.348599910736084, -5.377999782562256, -4.5457000732421875, -5.510200023651123, -5.542099952697754, -4.718500137329102, -5.586900234222412, -5.756400108337402, -6.003399848937988, -6.077600002288818, -6.143099784851074, -6.2342000007629395, -6.272200107574463, -6.02269983291626, -6.30649995803833, -6.358399868011475, -6.383299827575684, -6.481299877166748, -6.538000106811523, -6.380799770355225, -6.57390022277832, -6.7820000648498535, -5.156799793243408, -6.928400039672852, -1.8865000009536743, -4.5808000564575195, -3.871799945831299, -5.496399879455566, -5.272799968719482, -4.288300037384033, -4.77839994430542, -4.462699890136719, -5.621500015258789, -5.302999973297119, -4.670000076293945, -4.998499870300293, -4.895500183105469, -5.603700160980225, -2.710599899291992, -4.026100158691406, -3.359800100326538, -5.258800029754639, -4.289999961853027, -3.943000078201294, -4.401299953460693, -4.8902997970581055, -5.013999938964844, -4.735599994659424, -5.135799884796143, -4.994999885559082, -5.0441999435424805, -5.238900184631348, -3.680299997329712, -4.223599910736084, -4.485599994659424, -4.543700218200684, -4.546599864959717, -4.715199947357178, -4.815499782562256, -4.843299865722656, -5.02209997177124, -5.094299793243408, -5.143899917602539, -5.2484002113342285, -5.276800155639648, -5.331200122833252, -5.379700183868408, -5.532400131225586, -5.547500133514404, -5.668000221252441, -5.674099922180176, -5.676000118255615, -5.8053998947143555, -5.901700019836426, -5.985300064086914, -6.077000141143799, -6.081600189208984, -6.100100040435791, -6.105599880218506, -6.112400054931641, -6.11870002746582, -6.148399829864502, -4.998300075531006, -4.536300182342529, -3.9354000091552734, -4.773900032043457, -5.944900035858154, -5.420400142669678, -5.290299892425537, -5.519800186157227, -5.11899995803833, -5.0304999351501465, -5.241600036621094, -5.01230001449585, -5.106500148773193, -5.175600051879883, -5.031400203704834, -5.207099914550781, -5.321499824523926, -5.242300033569336, -5.327700138092041, -3.0717999935150146, -3.8596999645233154, -4.006700038909912, -4.151800155639648, -4.173099994659424, -4.278600215911865, -4.542300224304199, -4.5457000732421875, -4.617400169372559, -4.6350998878479, -4.710700035095215, -4.729000091552734, -4.744500160217285, -4.775899887084961, -4.789700031280518, -4.854300022125244, -4.912600040435791, -5.136899948120117, -5.357999801635742, -5.374199867248535, -5.38640022277832, -5.571899890899658, -5.578199863433838, -5.583799839019775, -5.600599765777588, -5.76639986038208, -5.796500205993652, -5.827099800109863, -5.8541998863220215, -5.8979997634887695, -4.742599964141846, -4.1880998611450195, -3.8791000843048096, -4.8225998878479, -4.904600143432617, -4.579599857330322, -4.59250020980835, -3.7769999504089355, -4.978400230407715, -5.066100120544434, -5.269400119781494, -5.140100002288818, -5.184500217437744, -3.0701000690460205, -3.4193999767303467, -3.4637999534606934, -3.5713999271392822, -3.838399887084961, -3.8947999477386475, -3.910099983215332, -4.037399768829346, -4.547500133514404, -4.695300102233887, -4.917399883270264, -5.078700065612793, -5.215199947357178, -5.273499965667725, -5.368800163269043, -5.390900135040283, -5.3927001953125, -5.436200141906738, -5.456900119781494, -5.554299831390381, -5.582499980926514, -5.64169979095459, -5.67140007019043, -5.671299934387207, -5.881700038909912, -5.887800216674805, -5.952300071716309, -5.9832000732421875, -6.0233001708984375, -6.053100109100342, -5.371399879455566, -3.921999931335449, -3.8285999298095703, -5.41349983215332, -4.426799774169922, -4.418799877166748, -4.234899997711182, -5.065499782562256, -5.129499912261963, -4.530300140380859, -5.051599979400635, -4.91949987411499, -4.875100135803223, -4.98360013961792, -5.155099868774414, -5.2322001457214355, -5.352399826049805, -2.8863000869750977, -2.898400068283081, -3.414400100708008, -3.5130999088287354, -3.57669997215271, -3.9393999576568604, -4.046999931335449, -4.396200180053711, -4.4375, -4.708099842071533, -4.730199813842773, -4.81220006942749, -4.856500148773193, -4.900599956512451, -5.085999965667725, -5.13730001449585, -5.550099849700928, -5.397799968719482, -5.646399974822998, -5.691299915313721, -5.7266998291015625, -5.7347002029418945, -5.747900009155273, -5.762199878692627, -5.8383002281188965, -5.86959981918335, -5.986800193786621, -6.021599769592285, -6.028800010681152, -6.047399997711182, -5.193600177764893, -4.399099826812744, -5.177800178527832, -5.038000106811523, -4.501800060272217, -5.173999786376953, -5.3354997634887695, -5.361999988555908, -4.337800025939941, -5.372200012207031, -5.4816999435424805, -5.019000053405762, -4.697800159454346, -5.175099849700928, -5.060100078582764, -2.836699962615967, -3.473299980163574, -3.5896999835968018, -3.7558000087738037, -3.951200008392334, -4.312300205230713, -4.335999965667725, -4.6244001388549805, -4.671599864959717, -4.820300102233887, -4.984499931335449, -5.113699913024902, -5.215700149536133, -5.26039981842041, -5.2972002029418945, -5.318399906158447, -5.337600231170654, -5.369999885559082, -5.3902997970581055, -5.466899871826172, -5.534599781036377, -5.567500114440918, -5.659599781036377, -5.763800144195557, -5.895699977874756, -5.918300151824951, -5.952199935913086, -5.969600200653076, -6.073400020599365, -6.105100154876709, -5.425099849700928, -3.920099973678589, -4.630000114440918, -4.816500186920166, -4.787700176239014, -4.576099872589111, -3.6654999256134033, -4.841400146484375, -4.830900192260742, -4.638199806213379, -4.867199897766113, -4.60830020904541, -4.771200180053711, -4.573400020599365, -4.90939998626709, -5.031700134277344, -5.17140007019043, -5.172999858856201, -2.7339999675750732, -2.819999933242798, -2.9486000537872314, -2.949399948120117, -3.5738000869750977, -3.637200117111206, -3.8401999473571777, -3.890500068664551, -4.121399879455566, -4.417600154876709, -4.538099765777588, -4.565800189971924, -4.612800121307373, -4.789000034332275, -4.879000186920166, -4.963600158691406, -5.073200225830078, -5.1433000564575195, -5.205100059509277, -5.2144999504089355, -5.430200099945068, -5.4944000244140625, -5.526100158691406, -5.572299957275391, -5.683899879455566, -5.738100051879883, -5.931099891662598, -5.963099956512451, -5.989299774169922, -6.048999786376953, -3.456700086593628, -3.724400043487549, -4.827099800109863, -3.333199977874756, -4.79640007019043, -5.4695000648498535, -3.0689001083374023, -4.296999931335449, -5.002399921417236, -5.027599811553955, -3.0625, -4.218800067901611, -4.26609992980957, -4.6753997802734375, -4.938199996948242, -4.8495001792907715], \"loglift\": [30.0, 29.0, 28.0, 27.0, 26.0, 25.0, 24.0, 23.0, 22.0, 21.0, 20.0, 19.0, 18.0, 17.0, 16.0, 15.0, 14.0, 13.0, 12.0, 11.0, 10.0, 9.0, 8.0, 7.0, 6.0, 5.0, 4.0, 3.0, 2.0, 1.0, 1.495300054550171, 1.495300054550171, 1.495300054550171, 1.4952000379562378, 1.4952000379562378, 1.4952000379562378, 1.4952000379562378, 1.4952000379562378, 1.4952000379562378, 1.4952000379562378, 1.4951000213623047, 1.4951000213623047, 1.4951000213623047, 1.4951000213623047, 1.4951000213623047, 1.4951000213623047, 1.4951000213623047, 1.4951000213623047, 1.4950000047683716, 1.4950000047683716, 1.4950000047683716, 1.4950000047683716, 1.4950000047683716, 1.4948999881744385, 1.4948999881744385, 1.4948999881744385, 1.4948999881744385, 1.4948999881744385, 1.4948999881744385, 1.4948999881744385, 1.482800006866455, 1.4881999492645264, 1.4901000261306763, 1.4944000244140625, 1.4780999422073364, 1.493899941444397, 1.4758000373840332, 1.4592000246047974, 1.4749000072479248, 1.471500039100647, 1.4855999946594238, 1.4559999704360962, 1.4134000539779663, 1.448199987411499, 1.419700026512146, 1.4735000133514404, 1.4092999696731567, 1.4460999965667725, 1.3617000579833984, 1.4366999864578247, 1.3559999465942383, 1.357699990272522, 1.1619999408721924, 1.2214000225067139, 1.2930999994277954, 1.0490000247955322, 1.1088000535964966, 0.5932000279426575, 1.240399956703186, 0.6396999955177307, 0.6312999725341797, 0.9998999834060669, -0.020800000056624413, 0.6031000018119812, 1.5128999948501587, 1.5128999948501587, 1.5127999782562256, 1.5127999782562256, 1.5127999782562256, 1.5127999782562256, 1.5127999782562256, 1.5127999782562256, 1.5126999616622925, 1.5126999616622925, 1.5126999616622925, 1.5126999616622925, 1.5126999616622925, 1.5126999616622925, 1.5126999616622925, 1.5125999450683594, 1.5125999450683594, 1.5125999450683594, 1.5125999450683594, 1.5125000476837158, 1.5125000476837158, 1.5125000476837158, 1.5123000144958496, 1.5120999813079834, 1.5119999647140503, 1.5118999481201172, 1.5118999481201172, 1.5118000507354736, 1.5118000507354736, 1.5118000507354736, 1.5063999891281128, 1.5104000568389893, 1.510699987411499, 1.5003999471664429, 1.4793000221252441, 1.4800000190734863, 1.5013999938964844, 1.4977999925613403, 1.4062000513076782, 1.4105000495910645, 1.4150999784469604, 1.3913999795913696, 1.3198000192642212, 1.3920999765396118, 1.4270999431610107, 1.2583999633789062, 1.3961000442504883, 1.263800024986267, 0.9965000152587891, 1.187000036239624, 1.305899977684021, 1.3141000270843506, 1.3127000331878662, 1.2870999574661255, 1.0501999855041504, 0.6955000162124634, 0.9836000204086304, 1.0911999940872192, 0.9822999835014343, 0.16290000081062317, 0.47760000824928284, 1.6514999866485596, 1.6514999866485596, 1.6514999866485596, 1.6514999866485596, 1.6514999866485596, 1.6513999700546265, 1.6513999700546265, 1.6513999700546265, 1.6513999700546265, 1.6513999700546265, 1.6513999700546265, 1.6513999700546265, 1.6512999534606934, 1.6512999534606934, 1.6512999534606934, 1.6512999534606934, 1.6512999534606934, 1.6512000560760498, 1.6512000560760498, 1.6512000560760498, 1.6512000560760498, 1.6512000560760498, 1.6512000560760498, 1.6512000560760498, 1.6511000394821167, 1.6511000394821167, 1.6511000394821167, 1.6511000394821167, 1.6510000228881836, 1.6510000228881836, 1.6505999565124512, 1.6507999897003174, 1.642899990081787, 1.6509000062942505, 1.649399995803833, 1.6374000310897827, 1.634600043296814, 1.6279000043869019, 1.6298999786376953, 1.6469000577926636, 1.628999948501587, 1.5709999799728394, 1.6191999912261963, 1.5499999523162842, 1.4312000274658203, 1.4967000484466553, 1.3753999471664429, 1.5894999504089355, 1.5190999507904053, 1.1581000089645386, 1.3801000118255615, 0.7436000108718872, 0.906499981880188, 1.1805000305175781, 0.6707000136375427, 1.138700008392334, 0.6335999965667725, 2.510999917984009, 2.510999917984009, 2.5109000205993652, 2.5107998847961426, 2.5107998847961426, 2.5107998847961426, 2.5107998847961426, 2.510699987411499, 2.510699987411499, 2.510699987411499, 2.510699987411499, 2.510699987411499, 2.510699987411499, 2.5106000900268555, 2.510499954223633, 2.5104000568389893, 2.5104000568389893, 2.5102999210357666, 2.5102999210357666, 2.5102999210357666, 2.5102999210357666, 2.510200023651123, 2.510200023651123, 2.5100998878479004, 2.5100998878479004, 2.5100998878479004, 2.509999990463257, 2.5097999572753906, 2.509700059890747, 2.5095999240875244, 2.490799903869629, 2.508699893951416, 2.499799966812134, 2.5095999240875244, 2.4932000637054443, 2.3747000694274902, 2.4045000076293945, 2.3682000637054443, 2.4516000747680664, 2.4173998832702637, 2.3429999351501465, 2.3759000301361084, 2.3619000911712646, 2.4449000358581543, 1.919800043106079, 2.129300117492676, 1.981600046157837, 2.355299949645996, 1.8381999731063843, 1.4936000108718872, 1.674399971961975, 1.7201000452041626, 1.8792999982833862, 1.1823999881744385, 2.0327999591827393, 1.3733999729156494, 0.6341000199317932, 1.8945000171661377, 2.718899965286255, 2.7188000679016113, 2.7188000679016113, 2.7188000679016113, 2.7188000679016113, 2.7186999320983887, 2.7186999320983887, 2.7186999320983887, 2.7186999320983887, 2.718600034713745, 2.718600034713745, 2.718600034713745, 2.718600034713745, 2.718600034713745, 2.7184998989105225, 2.7184998989105225, 2.7184998989105225, 2.718400001525879, 2.718400001525879, 2.718400001525879, 2.7183001041412354, 2.7183001041412354, 2.7181999683380127, 2.7181999683380127, 2.7181999683380127, 2.718100070953369, 2.718100070953369, 2.718100070953369, 2.718100070953369, 2.718100070953369, 2.7007999420166016, 2.433300018310547, 1.9515000581741333, 2.0815000534057617, 2.641400098800659, 2.3371999263763428, 2.0174999237060547, 2.2040998935699463, 1.7295000553131104, 1.2977999448776245, 1.3522000312805176, 0.722599983215332, 0.9692999720573425, 0.899399995803833, 0.3402999937534332, 0.7107999920845032, 0.8755999803543091, -0.4771000146865845, 0.5393999814987183, 2.911600112915039, 2.9114999771118164, 2.9114999771118164, 2.9114999771118164, 2.9114999771118164, 2.911400079727173, 2.911400079727173, 2.911400079727173, 2.911400079727173, 2.911400079727173, 2.911400079727173, 2.911400079727173, 2.911400079727173, 2.911400079727173, 2.91129994392395, 2.91129994392395, 2.91129994392395, 2.9112000465393066, 2.9112000465393066, 2.911099910736084, 2.911099910736084, 2.9110000133514404, 2.9110000133514404, 2.9110000133514404, 2.9110000133514404, 2.910900115966797, 2.910900115966797, 2.910900115966797, 2.910900115966797, 2.910799980163574, 2.881200075149536, 2.7708001136779785, 2.678800106048584, 2.7237000465393066, 2.7197999954223633, 2.268899917602539, 2.1029999256134033, 1.417799949645996, 2.106600046157837, 2.1579999923706055, 2.2300000190734863, 0.5817999839782715, 0.49810001254081726, 3.0764999389648438, 3.0764999389648438, 3.0764999389648438, 3.0764999389648438, 3.0764000415802, 3.0764000415802, 3.0764000415802, 3.0764000415802, 3.0762999057769775, 3.0762999057769775, 3.076200008392334, 3.076200008392334, 3.0761001110076904, 3.0761001110076904, 3.0759999752044678, 3.0759999752044678, 3.0759999752044678, 3.0759999752044678, 3.0759999752044678, 3.075900077819824, 3.075900077819824, 3.0757999420166016, 3.0757999420166016, 3.0757999420166016, 3.075700044631958, 3.0755999088287354, 3.0755999088287354, 3.0755999088287354, 3.075500011444092, 3.075500011444092, 3.0748000144958496, 3.0020999908447266, 2.833400011062622, 2.934000015258789, 2.628999948501587, 2.5894999504089355, 2.4616000652313232, 2.782900094985962, 2.503200054168701, 1.510599970817566, 2.2695999145507812, 1.9358999729156494, 1.3759000301361084, 1.3446999788284302, 1.4795000553131104, 1.3515000343322754, 2.678299903869629, 3.2221999168395996, 3.2221999168395996, 3.222100019454956, 3.222100019454956, 3.222100019454956, 3.222100019454956, 3.2219998836517334, 3.2219998836517334, 3.2219998836517334, 3.22189998626709, 3.22189998626709, 3.22189998626709, 3.2218000888824463, 3.2218000888824463, 3.2216999530792236, 3.2216999530792236, 3.2214999198913574, 3.221400022506714, 3.221400022506714, 3.221299886703491, 3.221299886703491, 3.221299886703491, 3.221299886703491, 3.221299886703491, 3.2211999893188477, 3.2211999893188477, 3.221100091934204, 3.2209999561309814, 3.2209999561309814, 3.2209999561309814, 3.1357998847961426, 2.896399974822998, 3.055799961090088, 3.013000011444092, 2.7232000827789307, 2.886899948120117, 2.8952999114990234, 2.8487000465393066, 1.7741999626159668, 2.8320999145507812, 2.8408000469207764, 1.8468999862670898, 1.0641000270843506, 1.8806999921798706, 0.9621000289916992, 3.2221999168395996, 3.2221999168395996, 3.222100019454956, 3.222100019454956, 3.222100019454956, 3.2219998836517334, 3.2219998836517334, 3.2219998836517334, 3.22189998626709, 3.22189998626709, 3.2218000888824463, 3.2218000888824463, 3.2216999530792236, 3.2216999530792236, 3.2216999530792236, 3.2216999530792236, 3.22160005569458, 3.22160005569458, 3.22160005569458, 3.22160005569458, 3.2214999198913574, 3.2214999198913574, 3.221400022506714, 3.221299886703491, 3.2211999893188477, 3.2211999893188477, 3.221100091934204, 3.221100091934204, 3.2209999561309814, 3.220900058746338, 3.1756999492645264, 3.0376999378204346, 3.0467000007629395, 3.0562000274658203, 3.006500005722046, 2.9063000679016113, 2.614000082015991, 2.9289000034332275, 2.8094000816345215, 2.585900068283081, 2.541100025177002, 1.9811999797821045, 2.182300090789795, 1.6238000392913818, 2.199199914932251, 2.103600025177002, 2.6505000591278076, 1.1553000211715698, 3.312299966812134, 3.312299966812134, 3.312299966812134, 3.312299966812134, 3.3122000694274902, 3.3122000694274902, 3.3122000694274902, 3.3122000694274902, 3.3120999336242676, 3.3120999336242676, 3.312000036239624, 3.312000036239624, 3.312000036239624, 3.3118999004364014, 3.3118999004364014, 3.3118999004364014, 3.311800003051758, 3.311800003051758, 3.311800003051758, 3.3117001056671143, 3.3115999698638916, 3.3115999698638916, 3.311500072479248, 3.311500072479248, 3.3113999366760254, 3.311300039291382, 3.3111000061035156, 3.3111000061035156, 3.3111000061035156, 3.311000108718872, 3.3087000846862793, 3.309799909591675, 3.3108999729156494, 3.2941999435424805, 3.2528998851776123, 3.2936999797821045, 3.043100118637085, 3.1777000427246094, 3.2130000591278076, 3.1989998817443848, 2.316800117492676, 2.7932000160217285, 2.0938000679016113, 2.412400007247925, 2.575700044631958, 1.5746999979019165]}, \"token.table\": {\"Topic\": [2, 6, 10, 5, 6, 7, 9, 10, 3, 9, 10, 4, 9, 10, 1, 8, 1, 1, 2, 3, 4, 5, 6, 7, 8, 9, 2, 1, 8, 1, 2, 3, 7, 8, 8, 8, 8, 3, 5, 1, 3, 5, 6, 7, 8, 9, 9, 2, 1, 2, 4, 9, 1, 3, 5, 7, 9, 7, 1, 4, 7, 5, 6, 8, 9, 3, 3, 8, 6, 6, 2, 6, 5, 7, 1, 2, 3, 4, 5, 6, 7, 8, 9, 3, 7, 9, 10, 3, 10, 3, 5, 6, 7, 8, 9, 5, 6, 6, 3, 7, 8, 3, 5, 1, 3, 6, 8, 10, 9, 10, 10, 3, 5, 6, 3, 5, 8, 6, 9, 1, 1, 10, 7, 3, 1, 2, 3, 4, 8, 1, 2, 4, 6, 1, 3, 6, 6, 1, 9, 7, 7, 7, 3, 7, 8, 7, 6, 6, 3, 4, 4, 4, 3, 3, 4, 9, 10, 10, 10, 3, 9, 5, 9, 2, 5, 6, 5, 8, 2, 5, 8, 2, 5, 1, 2, 7, 2, 4, 10, 5, 1, 3, 4, 5, 6, 7, 1, 5, 7, 8, 3, 5, 9, 9, 7, 7, 5, 1, 1, 2, 3, 10, 6, 6, 10, 1, 8, 9, 1, 2, 3, 5, 6, 2, 2, 2, 1, 3, 4, 6, 6, 9, 1, 3, 4, 5, 5, 4, 2, 3, 4, 5, 9, 5, 6, 9, 2, 6, 2, 5, 6, 7, 8, 9, 5, 9, 3, 5, 6, 7, 8, 9, 1, 3, 4, 5, 6, 7, 9, 1, 1, 8, 1, 2, 4, 7, 4, 4, 7, 8, 5, 5, 7, 2, 3, 3, 4, 2, 3, 4, 5, 2, 8, 9, 4, 1, 3, 5, 6, 7, 8, 9, 8, 2, 2, 2, 2, 4, 5, 7, 8, 1, 4, 1, 3, 5, 6, 7, 8, 9, 6, 9, 1, 2, 3, 4, 8, 3, 8, 1, 10, 4, 5, 7, 9, 1, 10, 1, 2, 3, 4, 6, 9, 4, 10, 3, 10, 10, 1, 3, 5, 8, 10, 8, 9, 6, 2, 8, 1, 2, 3, 6, 10, 2, 10, 10, 10, 2, 6, 9, 10, 7, 1, 5, 6, 7, 9, 7, 7, 1, 2, 6, 2, 8, 9, 9, 9, 6, 8, 5, 7, 8, 5, 7, 8, 8, 8, 5, 7, 9, 7, 5, 5, 9, 4, 4, 5, 9, 8, 10, 1, 3, 5, 6, 3, 4, 1, 7, 8, 1, 5, 6, 7, 8, 9, 8, 1, 5, 7, 8, 2, 3, 5, 6, 8, 9, 1, 5, 7, 8, 9, 7, 9, 10, 1, 3, 4, 5, 6, 7, 8, 3, 4, 1, 3, 5, 6, 3, 3, 7, 1, 7, 8, 8, 3, 7, 5, 5, 8, 2, 5, 6, 8, 9, 9, 3, 4, 5, 6, 7, 2, 3, 4, 5, 6, 7, 9, 10, 1, 2, 3, 4, 5, 7, 8, 9, 5, 2, 4, 6, 1, 3, 4, 10, 2, 4, 5, 6, 7, 8, 2, 5, 6, 7, 8, 9, 2, 2, 10, 10, 1, 2, 3, 4, 5, 7, 8, 1, 2, 5, 6, 7, 8, 2, 9, 6, 2, 3, 4, 5, 3, 3, 6, 7, 1, 9, 3, 4, 5, 8, 10, 1, 7, 1, 8, 9, 10, 9, 10, 10, 1, 2, 3, 4, 5, 6, 7, 8, 9, 10, 3, 4, 5, 6, 9, 6, 1, 3, 5, 7, 8, 9, 1, 9, 2, 7, 4, 10, 3, 3, 1, 4, 4, 3, 4, 10, 1, 3, 6, 7, 9, 1, 5, 6, 1, 2, 3, 1, 3, 8, 1, 8, 8, 5, 5, 10, 1, 4, 6, 2, 7, 10, 2, 3, 10, 3, 4, 6, 3, 7, 4, 6, 4, 4, 4, 4, 6, 1, 4, 5, 6, 6, 10, 8, 7, 7, 2, 6, 2, 5, 7, 9, 7, 9, 4, 7, 7, 4, 4, 3, 5, 10, 1, 2, 3, 4, 6, 2, 6, 1, 2, 5, 7, 5, 7, 9, 1, 2, 1, 2, 3, 5, 6, 7, 8, 10, 6, 7, 1, 5, 7, 8, 9, 2, 4, 7, 9, 3, 4, 6, 7, 8, 1, 2, 3, 4, 5, 6, 7, 8, 9, 1, 5, 2, 1, 2, 4, 5, 6, 1, 2, 3, 5, 8, 8, 6, 1, 1, 3, 5, 5, 9, 6, 9, 5, 3, 5, 7, 9, 10, 3, 3, 5, 8, 9, 8, 2, 1, 3, 4, 5, 6, 10, 6, 7, 10, 8, 1, 3, 4, 5, 6, 9, 3, 4, 5, 6, 7, 8, 9, 10, 1, 1, 1, 5, 6, 7, 8, 10, 2, 3, 4, 5, 8, 3, 5, 4, 5, 6, 4, 4, 5, 1, 3, 4, 5, 6, 7, 8, 9, 6, 10, 3, 3, 3, 5, 6, 9, 3, 4, 5, 7, 3, 3, 7, 3, 5, 9, 1, 2, 5, 9, 8, 9, 10, 1, 5, 7, 6, 1, 1, 1, 5, 9, 9, 1, 3, 4, 5, 6, 7, 8, 9, 6, 1, 3, 5, 7, 9, 1, 7, 3, 9, 8, 2, 2, 5, 8, 3, 1, 3, 5, 7, 8, 9, 3, 5, 5, 5, 10, 1, 4, 2, 2, 4, 5, 1, 3, 4, 5, 6, 7, 9, 1, 3, 4, 5, 6, 9, 4, 9, 3, 5, 9, 5, 1, 2, 8, 8, 1, 3, 5, 7, 1, 3, 5, 8, 3, 6, 3, 5, 1, 3, 6, 7, 4, 9, 5, 5, 1, 5, 7, 8, 9, 3, 3, 2, 7, 9, 6, 3, 5, 1, 8, 9, 8, 9, 7, 1, 3, 5, 6, 7, 9, 9, 5, 5, 5, 1, 1, 8, 5, 7, 9, 1, 3, 4, 5, 7, 1, 2, 3, 5, 6, 8, 9, 1, 2, 5, 6, 8, 9, 9, 2, 6, 1, 2, 3, 5, 6, 7, 9, 3, 4, 5, 2, 5, 7, 8, 9, 9, 5, 6, 10, 4, 9, 9, 1, 3, 5, 8, 2, 8, 9, 1, 2, 3, 5, 7, 8, 9, 5, 8, 9, 1, 2, 1, 2, 3, 4, 5, 6, 7, 8, 9, 6, 7, 9, 3, 3, 7, 8, 10, 8, 10, 6, 5, 10, 10, 10, 7], \"Freq\": [0.9178345203399658, 0.0011472931364551187, 0.08093631267547607, 0.042431365698575974, 0.012123246677219868, 0.09833300113677979, 0.8469434976577759, 0.9999273419380188, 0.01967008411884308, 0.08731598407030106, 0.8928298950195312, 0.9997783303260803, 0.01805051974952221, 0.9812918305397034, 0.2845594882965088, 0.7150573134422302, 0.9997744560241699, 0.19425560534000397, 0.13215099275112152, 0.21871624886989594, 0.11162152886390686, 0.1358439177274704, 0.07159502059221268, 0.06416947394609451, 0.021204516291618347, 0.050430215895175934, 0.9998772740364075, 0.9995861649513245, 0.0002769320271909237, 0.9175620079040527, 0.03161069005727768, 0.0141438664868474, 0.002641324419528246, 0.033996403217315674, 0.9993962645530701, 0.9994598627090454, 0.9990677833557129, 0.9994004368782043, 0.000480635033454746, 0.15993434190750122, 0.4136102497577667, 0.15829527378082275, 0.0018281812081113458, 0.022883785888552666, 0.04129168018698692, 0.20217162370681763, 0.9991657137870789, 0.9988566637039185, 0.9998189210891724, 0.9998727440834045, 0.9994082450866699, 0.9998572468757629, 0.9645054936408997, 0.0011142623843625188, 0.028703399002552032, 0.0003565639490261674, 0.00530388904735446, 0.9996352791786194, 0.13306425511837006, 0.8668185472488403, 0.9999544620513916, 0.3717213273048401, 0.5258998274803162, 0.06880593299865723, 0.033496033400297165, 0.9997857213020325, 0.9995089769363403, 0.998883068561554, 0.9995899796485901, 0.9997690320014954, 0.9026550054550171, 0.097320556640625, 0.9994907379150391, 0.9999122023582458, 0.09668168425559998, 0.003144119633361697, 0.10617450624704361, 0.6826367378234863, 0.007074269466102123, 0.0004837107262574136, 0.003446438815444708, 0.086947001516819, 0.013302044942975044, 0.9913968443870544, 0.0031373316887766123, 0.005383376032114029, 7.130299491109326e-05, 0.9999066591262817, 0.9998540878295898, 0.9766765832901001, 0.02154252678155899, 0.0011899680830538273, 0.00016413354023825377, 8.206677011912689e-05, 0.00032826708047650754, 0.2076140195131302, 0.7922970652580261, 0.9998487234115601, 0.9994450211524963, 0.9990099668502808, 0.9998839497566223, 0.9785566926002502, 0.02131897769868374, 0.4250154197216034, 0.18084163963794708, 0.004173910710960627, 0.020396510139107704, 0.36953023076057434, 0.0008781589567661285, 0.9984667301177979, 0.9996073842048645, 0.2482730597257614, 0.7515071630477905, 0.9998669028282166, 0.15876711905002594, 0.23383349180221558, 0.6072269678115845, 0.999643087387085, 0.9996781945228577, 0.9998398423194885, 0.9996757507324219, 0.9983949065208435, 0.9995054602622986, 0.9996617436408997, 0.4097136855125427, 0.5882915258407593, 0.0017170945648103952, 0.00018664071103557944, 7.465628732461482e-05, 0.6093036532402039, 0.386382132768631, 0.0005695490981452167, 0.0037020693998783827, 0.9947293400764465, 0.0013216360239312053, 0.0038327444344758987, 0.9991438388824463, 0.9994587898254395, 0.9992554783821106, 0.9998838901519775, 0.9998201727867126, 0.9985478520393372, 0.0992317795753479, 0.6391299962997437, 0.2613946497440338, 0.9996191263198853, 0.9998582005500793, 0.9997100830078125, 0.9997991919517517, 0.9999479055404663, 0.9997779130935669, 0.9998425245285034, 0.999717116355896, 0.3775603473186493, 0.0004704801831394434, 0.14326120913028717, 0.4787135720252991, 0.9997580647468567, 0.9987120628356934, 0.3379388153553009, 0.6617301106452942, 0.19394321739673615, 0.8059694766998291, 0.7753502726554871, 0.00011567902402020991, 0.2245098501443863, 0.3227941691875458, 0.6770232319831848, 0.8987882733345032, 0.06353633850812912, 0.03765467181801796, 0.9974868893623352, 0.0022673376370221376, 0.9903038740158081, 0.009606490842998028, 0.9992541074752808, 0.9999419450759888, 0.00356107484549284, 0.996321976184845, 0.9998349547386169, 0.7164825797080994, 0.2811879813671112, 4.5192540710559115e-05, 0.0007682731957174838, 0.0010846209479495883, 0.00040673287003301084, 0.9783059358596802, 0.0008402885287068784, 0.01722591556608677, 0.0035712262615561485, 0.5016236305236816, 0.17155721783638, 0.3266836106777191, 0.9987126588821411, 0.9995828866958618, 0.9996265172958374, 0.9995798468589783, 0.9996687769889832, 0.9996481537818909, 0.9676448702812195, 0.03232552111148834, 0.9987598061561584, 0.9997178912162781, 0.9991811513900757, 0.9999234676361084, 0.9829213619232178, 0.013057120144367218, 0.004010401200503111, 0.01029978133738041, 0.7978811860084534, 0.162685364484787, 0.028020521625876427, 0.0010875544976443052, 0.9996005892753601, 0.999779224395752, 0.999830424785614, 0.03267551213502884, 0.05320614576339722, 0.9105769395828247, 0.0034699661191552877, 0.9997137188911438, 0.9993246793746948, 0.45976927876472473, 0.0867309421300888, 0.45338359475135803, 0.9996207356452942, 0.9996544718742371, 0.9988498091697693, 0.35511454939842224, 0.6105068922042847, 0.0343523845076561, 0.6828082203865051, 0.31694307923316956, 0.9988588690757751, 0.4707390367984772, 0.5291852951049805, 0.9994930624961853, 0.9999253749847412, 0.6327831149101257, 0.0018550963141024113, 0.003807829227298498, 0.2024984061717987, 0.026752442121505737, 0.13229766488075256, 0.981954038143158, 0.017833122983574867, 0.3733901083469391, 0.24142779409885406, 0.04290931671857834, 0.17695601284503937, 0.03866869583725929, 0.12657169997692108, 0.6399449706077576, 0.3050038814544678, 0.0486857108771801, 0.002419165801256895, 0.0014741792110726237, 0.0013229813193902373, 0.0011339839547872543, 0.9998200535774231, 0.9990006685256958, 0.0008591970545239747, 0.9996774792671204, 0.6793694496154785, 0.3205702006816864, 0.9992439150810242, 0.9991288185119629, 0.9993067979812622, 0.9282524585723877, 0.0717250406742096, 0.9997800588607788, 0.9997475743293762, 0.9996165633201599, 0.9997895956039429, 0.00017384621605742723, 0.0010959826176986098, 0.9987141489982605, 0.3363072872161865, 0.05661889165639877, 0.43318477272987366, 0.1738211065530777, 0.9987550377845764, 0.27077916264533997, 0.7291435599327087, 0.9994279742240906, 0.943091094493866, 0.0011007774155586958, 0.005641484167426825, 0.00013759717694483697, 0.012383745983242989, 0.03756403177976608, 0.00013759717694483697, 0.9983065128326416, 0.9998974204063416, 0.9991592168807983, 0.9997158050537109, 0.5455198884010315, 0.2648441791534424, 0.13423413038253784, 0.003337971167638898, 0.052072349935770035, 0.9997416138648987, 0.9991768002510071, 0.10656296461820602, 0.8759252429008484, 0.0028389752842485905, 0.00223062327131629, 0.0012167036766186357, 0.007908573374152184, 0.003244542982429266, 0.8254395127296448, 0.1744404286146164, 0.999959409236908, 0.5966485738754272, 0.40334177017211914, 0.9998319745063782, 0.9998928308486938, 0.18835701048374176, 0.8113840818405151, 0.0024751441087573767, 0.9974830746650696, 0.5397544503211975, 0.250020295381546, 0.1926201432943344, 0.01752553880214691, 0.4048595428466797, 0.5951136350631714, 0.9213160276412964, 0.033856041729450226, 0.03624027222394943, 0.0031371426302939653, 2.5097140678553842e-05, 0.005420982372015715, 0.9998012185096741, 0.9999179244041443, 0.5932412147521973, 0.40660524368286133, 0.9990308284759521, 0.8714728951454163, 0.05602889135479927, 0.07023339718580246, 0.00035072860191576183, 0.0018413250800222158, 0.999880313873291, 0.9997727274894714, 0.9998394846916199, 0.9999728798866272, 1.5733481632196344e-05, 0.4214615821838379, 0.3968164920806885, 0.16053184866905212, 0.0008317712345160544, 0.020332185551524162, 0.9990262985229492, 0.9984297752380371, 0.9997599124908447, 0.9995301365852356, 0.9999929070472717, 0.9998407363891602, 0.9995770454406738, 0.999622642993927, 0.9991551041603088, 0.2467101365327835, 0.13409864902496338, 0.18303288519382477, 0.07653817534446716, 0.3594784736633301, 0.9984346032142639, 0.9995051622390747, 0.012130606919527054, 0.9876229166984558, 0.00025538119371049106, 0.9996289610862732, 0.9993629455566406, 0.9999441504478455, 0.9998651146888733, 0.9995417594909668, 0.9994871616363525, 0.999623715877533, 0.5286809802055359, 0.31961941719055176, 0.15171268582344055, 0.25405147671699524, 0.7453929781913757, 0.9998549818992615, 0.9996723532676697, 0.998326301574707, 0.21513083577156067, 0.7840635776519775, 0.0006020452710799873, 0.9994656443595886, 0.9999101161956787, 0.9989281892776489, 0.9991021156311035, 0.9992238283157349, 0.9995386600494385, 0.254110723733902, 0.7456144094467163, 0.9988734722137451, 0.999847948551178, 0.19095566868782043, 0.8022552728652954, 0.006672474090009928, 8.779571362538263e-05, 0.9994302988052368, 0.9990673661231995, 0.9993242025375366, 0.08240731060504913, 0.9171136617660522, 0.003688558004796505, 0.11505463719367981, 0.07277808338403702, 0.6144286394119263, 0.016882246360182762, 0.17705078423023224, 0.9994900226593018, 0.961408257484436, 7.28284430806525e-05, 0.0008011128520593047, 0.03772513195872307, 0.3960523307323456, 0.10796206444501877, 0.4957832396030426, 0.9997960329055786, 0.16082587838172913, 0.8390072584152222, 0.26326966285705566, 0.07372371852397919, 0.0975453108549118, 0.02108347788453102, 0.5443370342254639, 0.9993395209312439, 0.12574705481529236, 0.8738967776298523, 0.017232585698366165, 0.016556797549128532, 0.8989665508270264, 0.0635240375995636, 0.002196309855207801, 0.0015205221716314554, 0.00016894692089408636, 0.05719304829835892, 0.9422451853752136, 0.9797381162643433, 0.010623789392411709, 0.009500119835138321, 0.0001021518255583942, 0.9999656081199646, 0.9997976422309875, 0.00018775543139781803, 0.7176956534385681, 0.029406696557998657, 0.2527253329753876, 0.9985570311546326, 0.9997289776802063, 0.9998810887336731, 0.9999033212661743, 0.9999083280563354, 0.9995823502540588, 0.454249769449234, 0.00037333040381781757, 0.20327839255332947, 0.05291958153247833, 0.2890510559082031, 0.9997485876083374, 0.013219750486314297, 0.9799676537513733, 0.006660956423729658, 3.064857082790695e-05, 0.0001225942833116278, 0.20162540674209595, 0.7586909532546997, 2.072416464216076e-05, 0.0022589340806007385, 0.009470943361520767, 0.0037510739639401436, 0.023770617321133614, 0.0004144833073951304, 0.2619120478630066, 0.006888844538480043, 0.5987856388092041, 0.0017222111346200109, 0.11307675391435623, 0.001314318971708417, 0.012916583567857742, 0.0033084582537412643, 0.999237596988678, 0.4416026771068573, 0.5536613464355469, 0.004737096838653088, 0.019587690010666847, 0.0007031478453427553, 0.8725060224533081, 0.10707937180995941, 0.8130205869674683, 0.11456052958965302, 0.0001072162194759585, 0.028841162100434303, 0.0418679341673851, 0.0016082432121038437, 0.886258602142334, 0.0074409423395991325, 0.000483963725855574, 0.09134815633296967, 0.0139139574021101, 0.000483963725855574, 0.9996363520622253, 0.9998582005500793, 0.00013522195513360202, 0.9999702572822571, 0.0015912073431536555, 0.629587709903717, 0.0009724044357426465, 0.36149871349334717, 0.00044200202682986856, 0.005186157301068306, 0.0007072032312862575, 0.047514669597148895, 0.8898201584815979, 0.0010329275391995907, 0.0017841476947069168, 0.03380490466952324, 0.026104897260665894, 0.999658465385437, 0.9996034502983093, 0.9997031092643738, 0.34668439626693726, 0.027890142053365707, 0.5889347791671753, 0.03649027273058891, 0.9997224807739258, 0.9999679327011108, 0.8287599682807922, 0.17104867100715637, 0.9997484683990479, 0.9990249276161194, 0.037340570241212845, 0.9359233379364014, 0.0016060459893196821, 0.024893714115023613, 0.999728262424469, 0.9806798100471497, 0.01927778869867325, 0.6093761324882507, 0.0019288751063868403, 0.09295693784952164, 0.29571136832237244, 0.05745939910411835, 0.9422537684440613, 0.9991065859794617, 0.3187127709388733, 0.39094284176826477, 0.0737309381365776, 0.1530526727437973, 0.019473973661661148, 0.0034145116806030273, 0.008517518639564514, 0.03196883574128151, 0.00018761053797788918, 3.752210614038631e-05, 0.2973584234714508, 0.10709136724472046, 0.059048399329185486, 0.030264951288700104, 0.5060384273529053, 0.9999326467514038, 0.2913387715816498, 0.37756282091140747, 0.04597284644842148, 0.1825607717037201, 0.06952477991580963, 0.032999321818351746, 0.9999428391456604, 0.9989511370658875, 0.9999427795410156, 5.155672988621518e-05, 0.9992366433143616, 0.9993802309036255, 0.9998050332069397, 0.9995914101600647, 0.002154371701180935, 0.9976279735565186, 0.9998345375061035, 0.14404289424419403, 0.8556772470474243, 0.999940037727356, 0.9875191450119019, 0.004117291886359453, 0.002988356864079833, 0.005345838610082865, 1.6601983588770963e-05, 0.9996510148048401, 0.9996823668479919, 0.9995736479759216, 0.13571706414222717, 0.007714219857007265, 0.8565443754196167, 0.0009532068506814539, 0.9990360140800476, 0.9990984201431274, 0.9997811913490295, 0.999555230140686, 0.9999273419380188, 0.9999508261680603, 0.9996665716171265, 0.9995530843734741, 0.12622712552547455, 0.8735653758049011, 0.9997228384017944, 0.9999366402626038, 2.2916456146049313e-05, 2.2916456146049313e-05, 0.8197514414787292, 0.17998996376991272, 0.0002433941263007, 0.08827785402536392, 0.8614826798439026, 0.05023647099733353, 0.9994780421257019, 0.9998112916946411, 0.9996875524520874, 0.00014887380530126393, 0.9995734691619873, 0.9999733567237854, 0.9989325404167175, 0.9995748400688171, 0.00017694721464067698, 0.4436084032058716, 0.11009790003299713, 0.0007263763109222054, 0.445476233959198, 0.9998002052307129, 0.9993230700492859, 0.9989222884178162, 0.9993568658828735, 0.998950719833374, 0.9977960586547852, 0.00204756879247725, 0.9983822703361511, 0.08824162930250168, 0.8672582507133484, 0.04439149424433708, 0.9999392628669739, 0.999191403388977, 0.43627801537513733, 0.5636913180351257, 0.9997477531433105, 0.9995004534721375, 0.9995420575141907, 0.9997247457504272, 0.9990447163581848, 0.999468207359314, 7.537109195254743e-05, 0.7794877886772156, 0.12635962665081024, 0.004522265400737524, 0.08950316905975342, 0.9992550611495972, 0.0007196555379778147, 0.18526127934455872, 0.721853494644165, 0.09267206490039825, 0.00016568307182751596, 0.9996224641799927, 0.044641271233558655, 0.954207181930542, 0.18134450912475586, 0.8185957074165344, 0.5960130095481873, 0.031248359009623528, 0.10300091654062271, 0.014160647988319397, 0.033463433384895325, 0.006328781601041555, 0.03979221358895302, 0.1759401261806488, 0.9993622899055481, 0.9998304843902588, 0.9270985126495361, 0.0031947819516062737, 0.04486289620399475, 0.00027189633692614734, 0.024538643658161163, 0.9935750365257263, 0.0002595981932245195, 0.00613764300942421, 0.9993329048156738, 0.9996387362480164, 0.6198899745941162, 0.35491281747817993, 0.022817013785243034, 0.0023316657170653343, 0.022647706791758537, 0.8243932723999023, 0.0743003711104393, 0.06811042129993439, 0.008762132376432419, 0.0014638407155871391, 0.00018820809782482684, 8.364803943550214e-05, 6.27360277576372e-05, 0.998468279838562, 0.0011272573610767722, 0.9989588856697083, 0.3930058777332306, 0.35768890380859375, 0.0006695159827359021, 0.1620786488056183, 0.08653493970632553, 0.008626487106084824, 0.8856173753738403, 0.0003175394085701555, 0.0010584646370261908, 0.10436461865901947, 0.9997880458831787, 0.99973064661026, 0.9996840953826904, 0.16599169373512268, 0.36979490518569946, 0.46418505907058716, 0.9252768754959106, 0.07424212992191315, 0.9999417662620544, 0.9996490478515625, 0.9995986223220825, 0.41862645745277405, 0.01086333766579628, 0.4461727738380432, 0.03627578541636467, 0.08787664026021957, 0.9999191761016846, 0.08817780017852783, 0.22493259608745575, 0.6827179193496704, 0.0036960754077881575, 0.9990988373756409, 0.9998186826705933, 0.7749784588813782, 0.20142753422260284, 0.0013534656027331948, 0.009633490815758705, 0.0014330812264233828, 0.011225802823901176, 0.9998010993003845, 0.09440052509307861, 0.9055809378623962, 0.9995232820510864, 0.3935394883155823, 0.00388361350633204, 0.5102832913398743, 0.0908530205488205, 0.0005295836599543691, 0.0008826394332572818, 0.27999091148376465, 0.531653881072998, 0.03300705552101135, 0.006449654698371887, 0.11457622051239014, 0.012140526436269283, 0.021878240630030632, 0.00025292765349149704, 0.9998468160629272, 0.9996026754379272, 0.43915683031082153, 0.004135763738304377, 0.4471220076084137, 0.0006127057131379843, 0.02665269933640957, 0.08240891993045807, 0.5890156626701355, 0.36131906509399414, 0.011140361428260803, 0.03849613666534424, 0.9999573826789856, 0.983174741268158, 0.016787776723504066, 0.8453261852264404, 0.1529569923877716, 0.0015680587384849787, 0.9998594522476196, 0.9992208480834961, 0.9995225071907043, 0.16508105397224426, 0.4598885178565979, 0.08258692175149918, 0.05233598127961159, 0.021806659176945686, 0.17816504836082458, 0.0007423543720506132, 0.03934478014707565, 0.9996981024742126, 0.9994626045227051, 0.9999873042106628, 0.9996129274368286, 0.9998588562011719, 0.5975357294082642, 0.3113918602466583, 0.09083471447229385, 0.9681411981582642, 0.008955340832471848, 0.022870561107993126, 0.9994317293167114, 0.999984860420227, 0.9992326498031616, 0.000698709802236408, 0.9978028535842896, 0.000518878223374486, 0.0015566347865387797, 0.9998520016670227, 0.9068546295166016, 0.07811008393764496, 0.014972066506743431, 0.9994314312934875, 0.01783563382923603, 0.9820261597633362, 0.9995954036712646, 0.0011951670749112964, 0.9985621571540833, 0.9993791580200195, 0.9999459385871887, 0.9996750354766846, 0.01874835416674614, 0.1497170776128769, 0.8314018845558167, 0.9992119073867798, 0.34392642974853516, 0.6243581175804138, 0.0008720665937289596, 0.004401859827339649, 0.01735827699303627, 0.0036959012504667044, 0.0012042823946103454, 0.00415269797667861, 0.9998732805252075, 0.0025967301335185766, 0.2554143965244293, 0.06606081873178482, 0.5406392216682434, 0.1352377086877823, 0.32811984419822693, 0.6716203093528748, 0.9998791813850403, 0.9997456073760986, 0.9998876452445984, 0.9999507665634155, 0.9998247623443604, 0.2779473662376404, 0.721906840801239, 0.9994344115257263, 0.9539557099342346, 0.0005500840488821268, 0.00022003360209055245, 0.03289502486586571, 0.0024203697685152292, 0.009901512414216995, 0.9954885840415955, 0.0044981129467487335, 0.9997419714927673, 0.9988081455230713, 0.9981493949890137, 0.0011542675783857703, 0.9984414577484131, 0.999851405620575, 0.9998869299888611, 0.9887968301773071, 0.011183447204530239, 0.8748884797096252, 0.014117835089564323, 0.010779627598822117, 0.012866007164120674, 0.0006954598356969655, 0.08644565939903259, 0.00013909196422901005, 0.19330859184265137, 0.7623024582862854, 0.024530192837119102, 0.0054659671150147915, 0.013931550085544586, 0.0003332906635478139, 0.9995044469833374, 0.9998044967651367, 0.9859311580657959, 0.014001168310642242, 0.9982059001922607, 0.9995444416999817, 0.9928538799285889, 0.007103458512574434, 2.911253432102967e-05, 0.9994307160377502, 0.9998162984848022, 0.9226458668708801, 0.07732313871383667, 0.9992485046386719, 0.9519713521003723, 0.005148176569491625, 0.002353452146053314, 0.04044995829463005, 0.9777333736419678, 0.022170258685946465, 0.9998964071273804, 0.9994716644287109, 0.8699756860733032, 0.08968964964151382, 0.00020922935800626874, 0.04003255069255829, 0.99908846616745, 0.9996240735054016, 0.9996501207351685, 0.9997801780700684, 0.6794078946113586, 0.0040983413346111774, 0.20890754461288452, 0.041522666811943054, 0.06605879217386246, 0.9999023079872131, 0.9996215105056763, 0.9850315451622009, 0.014724388718605042, 0.9997506141662598, 0.9992987513542175, 0.7449888586997986, 0.25495341420173645, 0.9997075796127319, 0.6884106397628784, 0.3111540675163269, 0.8469284176826477, 0.15266935527324677, 0.9999399185180664, 0.8169097900390625, 0.10406184196472168, 0.05162506178021431, 0.001866944134235382, 0.02418910153210163, 0.0012987437658011913, 0.9999057650566101, 0.9999387264251709, 0.9998670816421509, 0.9995673298835754, 0.9997124075889587, 0.9994626641273499, 0.9999123811721802, 0.33191394805908203, 0.10338303446769714, 0.5646057724952698, 0.08500465750694275, 0.903437614440918, 0.007440629880875349, 0.00402882881462574, 3.629575439845212e-05, 0.21957436203956604, 0.259249210357666, 0.47474315762519836, 0.04092457517981529, 0.0020326776430010796, 0.003372739301994443, 0.00010539810318732634, 0.7604003548622131, 0.09822133928537369, 0.1098395586013794, 0.005157065112143755, 0.01748660020530224, 0.008832215331494808, 0.9994148015975952, 0.49401190876960754, 0.5058348178863525, 0.9999256134033203, 0.3341508209705353, 0.21139605343341827, 0.03411346673965454, 0.06258612871170044, 0.004163454752415419, 0.3534907400608063, 0.013922743499279022, 0.9824613928794861, 0.0036320199724286795, 0.9669856429100037, 0.011727498844265938, 0.013574199751019478, 0.0015420899726450443, 0.006168359890580177, 0.9993544220924377, 0.13125576078891754, 0.8686916828155518, 0.9999009966850281, 0.9988544583320618, 0.9996203184127808, 0.9997104406356812, 0.9998016953468323, 0.9398995041847229, 0.04206957668066025, 0.017924008890986443, 0.9884436726570129, 0.010976115241646767, 0.00029665176407434046, 0.13654251396656036, 0.6559099555015564, 0.005996937397867441, 0.03194287046790123, 0.03031105175614357, 0.11553283780813217, 0.023742977529764175, 0.17631962895393372, 0.7211762070655823, 0.10213049501180649, 0.9764339327812195, 0.023417523130774498, 0.40569165349006653, 0.19430586695671082, 0.37499120831489563, 0.010276904329657555, 0.01136249303817749, 0.0020409063436090946, 0.0011579610873013735, 1.4474512681772467e-05, 0.00014474513591267169, 0.9701347351074219, 0.0018378737149760127, 0.027830658480525017, 0.9999268054962158, 0.9994863867759705, 0.0009263161337003112, 0.23505271971225739, 0.7639792561531067, 0.9993059039115906, 0.9998497366905212, 0.9993762373924255, 0.9993519186973572, 0.9994782209396362, 0.9996424317359924, 0.9995481371879578, 0.9999265074729919], \"Term\": [\"absolutely\", \"absolutely\", \"absolutely\", \"adjustable\", \"adjustable\", \"adjustable\", \"adjustable\", \"adorable\", \"adult\", \"adult\", \"adult\", \"advertised\", \"age\", \"age\", \"ago\", \"ago\", \"already\", \"also\", \"also\", \"also\", \"also\", \"also\", \"also\", \"also\", \"also\", \"also\", \"amazing\", \"amazon\", \"amazon\", \"another\", \"another\", \"another\", \"another\", \"another\", \"another_pair\", \"arch\", \"arch_support\", \"arm\", \"arm\", \"around\", \"around\", \"around\", \"around\", \"around\", \"around\", \"around\", \"around_neck\", \"arrived_quickly\", \"away\", \"awesome\", \"awful\", \"baby\", \"back\", \"back\", \"back\", \"back\", \"back\", \"backpack\", \"bad\", \"bad\", \"bag\", \"band\", \"band\", \"band\", \"band\", \"bathing\", \"bathing_suit\", \"battery\", \"bead\", \"beat\", \"beautiful\", \"beautiful\", \"belly\", \"belt\", \"better\", \"better\", \"better\", \"better\", \"better\", \"better\", \"better\", \"better\", \"better\", \"big\", \"big\", \"big\", \"big\", \"bigger\", \"birthday\", \"bit\", \"bit\", \"bit\", \"bit\", \"bit\", \"bit\", \"black\", \"black\", \"blue\", \"boob\", \"book\", \"boot\", \"bottom\", \"bottom\", \"bought\", \"bought\", \"bought\", \"bought\", \"bought\", \"boy\", \"boy\", \"boyfriend\", \"bra\", \"bra\", \"bracelet\", \"brand\", \"brand\", \"brand\", \"bright\", \"brim\", \"broke\", \"broken\", \"brother\", \"buckle\", \"bust\", \"buy\", \"buy\", \"buy\", \"buy\", \"buy\", \"came\", \"came\", \"came\", \"came\", \"cannot\", \"cannot\", \"cannot\", \"cannot_beat\", \"cannot_wait\", \"cap\", \"card\", \"carry\", \"carrying\", \"case\", \"case\", \"case\", \"cash\", \"chain\", \"charm\", \"chart\", \"cheap\", \"cheaply\", \"cheaply_made\", \"chest\", \"child\", \"child\", \"child\", \"child\", \"christmas\", \"christmas_gift\", \"coat\", \"coat\", \"cold\", \"cold\", \"color\", \"color\", \"color\", \"comfort\", \"comfort\", \"comfortable\", \"comfortable\", \"comfortable\", \"comfy\", \"comfy\", \"company\", \"company\", \"compartment\", \"compliment\", \"costume\", \"costume\", \"cotton\", \"could\", \"could\", \"could\", \"could\", \"could\", \"could\", \"couple\", \"couple\", \"couple\", \"couple\", \"cover\", \"cover\", \"cover\", \"cozy\", \"credit\", \"credit_card\", \"crotch\", \"customer\", \"customer_service\", \"cute\", \"cute\", \"dad\", \"dark\", \"darker\", \"daughter\", \"day\", \"day\", \"day\", \"definitely\", \"definitely\", \"definitely\", \"definitely\", \"definitely\", \"definitely_recommend\", \"delivery\", \"described\", \"description\", \"description\", \"description\", \"description\", \"diamond\", \"diaper\", \"disappointed\", \"disappointed\", \"disappointed\", \"discount\", \"discounted\", \"dont\", \"dress\", \"dress\", \"dress\", \"dry\", \"dry\", \"dryer\", \"ear\", \"ear\", \"earlier\", \"earring\", \"easy\", \"easy\", \"easy\", \"easy\", \"easy\", \"easy\", \"elastic\", \"elastic\", \"enough\", \"enough\", \"enough\", \"enough\", \"enough\", \"enough\", \"even\", \"even\", \"even\", \"even\", \"even\", \"even\", \"even\", \"ever\", \"every\", \"every\", \"every_day\", \"exactly\", \"exactly\", \"exactly_described\", \"exactly_pictured\", \"exactly_wanted\", \"excellent\", \"excellent\", \"exchange\", \"exchange_honest\", \"expectation\", \"expected\", \"expected\", \"expecting\", \"expecting\", \"fabric\", \"fabric\", \"fabric\", \"fabric\", \"fabulous\", \"face\", \"face\", \"fall_apart\", \"far\", \"far\", \"far\", \"far\", \"far\", \"far\", \"far\", \"fasciitis\", \"fast\", \"fast_delivery\", \"fast_shipping\", \"feel\", \"feel\", \"feel\", \"feel\", \"feel\", \"fell\", \"fell_apart\", \"fine\", \"fine\", \"fine\", \"fine\", \"fine\", \"fine\", \"fine\", \"finger\", \"finger\", \"first\", \"fit\", \"fit\", \"flimsy\", \"foot\", \"frame\", \"frame\", \"friend\", \"friend\", \"front\", \"front\", \"front\", \"front\", \"gave\", \"gave\", \"get\", \"get\", \"get\", \"get\", \"get\", \"get\", \"get_pay\", \"gift\", \"girl\", \"girl\", \"girlfriend\", \"give\", \"give\", \"give\", \"give\", \"give\", \"glass\", \"glove\", \"gold\", \"good\", \"good\", \"got\", \"got\", \"got\", \"got\", \"got\", \"gown\", \"grand\", \"granddaughter\", \"grandson\", \"great\", \"green\", \"hair\", \"halloween\", \"halloween_costume\", \"hand\", \"hand\", \"hand\", \"hand\", \"hand\", \"handbag\", \"handle\", \"happy\", \"happy\", \"happy\", \"happy_purchase\", \"hard_find\", \"hat\", \"head\", \"headband\", \"heart\", \"heel\", \"high\", \"high\", \"high\", \"high_quality\", \"high_quality\", \"highly\", \"highly_recommend\", \"highly_recommended\", \"hold\", \"hold\", \"hold\", \"holder\", \"honest\", \"honest_review\", \"hood\", \"hoped\", \"horrible\", \"hot\", \"hot\", \"hurt\", \"husband\", \"im\", \"im\", \"im\", \"im\", \"im_lb\", \"image\", \"immediately\", \"insert\", \"insert\", \"inside\", \"inside\", \"inside\", \"inside\", \"inside\", \"inside\", \"insole\", \"ive\", \"ive\", \"ive\", \"ive\", \"jean\", \"jean\", \"jean\", \"jewelry\", \"job\", \"job\", \"keep\", \"keep\", \"keep\", \"keep\", \"keep\", \"key\", \"kid\", \"kid\", \"kind\", \"kind\", \"kind\", \"kind\", \"kind\", \"kind\", \"kind\", \"kinda\", \"kinda\", \"know\", \"know\", \"know\", \"know\", \"large\", \"larger\", \"larger\", \"last\", \"last\", \"last\", \"last_year\", \"lb\", \"leather\", \"leg\", \"legging\", \"lens\", \"light\", \"light\", \"light\", \"light\", \"light\", \"light_weight\", \"like\", \"like\", \"like\", \"like\", \"like\", \"little\", \"little\", \"little\", \"little\", \"little\", \"little\", \"little\", \"little\", \"long\", \"long\", \"long\", \"long\", \"long\", \"long\", \"long\", \"long\", \"long_enough\", \"look\", \"look\", \"look\", \"looked\", \"looked\", \"looked\", \"looked\", \"looking\", \"looking\", \"looking\", \"looking\", \"looking\", \"looking\", \"lot\", \"lot\", \"lot\", \"lot\", \"lot\", \"lot\", \"lot_compliment\", \"love\", \"love\", \"loved\", \"made\", \"made\", \"made\", \"made\", \"made\", \"made\", \"made\", \"many\", \"many\", \"many\", \"many\", \"many\", \"many\", \"many_compliment\", \"mask\", \"match\", \"material\", \"material\", \"material\", \"material\", \"measurement\", \"medium\", \"metal\", \"metal\", \"minute\", \"mitten\", \"model\", \"model\", \"model\", \"model\", \"mom\", \"money\", \"money\", \"month\", \"month\", \"month\", \"month\", \"month_old\", \"month_old\", \"mother\", \"much\", \"much\", \"much\", \"much\", \"much\", \"much\", \"much\", \"much\", \"much\", \"much\", \"neck\", \"neck\", \"neck\", \"neck\", \"neck\", \"necklace\", \"need\", \"need\", \"need\", \"need\", \"need\", \"need\", \"never\", \"newborn\", \"nice\", \"nice\", \"nicer\", \"niece\", \"normally\", \"normally_wear\", \"nothing\", \"nothing\", \"ok\", \"okay\", \"okay\", \"old\", \"one\", \"one\", \"one\", \"one\", \"one\", \"opened\", \"opinion\", \"orange\", \"order\", \"order\", \"order\", \"ordered\", \"ordered\", \"orthotics\", \"package\", \"pain\", \"pair\", \"pant\", \"panty\", \"party\", \"pay\", \"pay\", \"pendant\", \"perfect\", \"perfect\", \"perfect\", \"perfectly\", \"perfectly\", \"perfectly\", \"person\", \"person\", \"person\", \"petite\", \"phone\", \"photo\", \"photo\", \"pic\", \"picture\", \"picture_show\", \"pictured\", \"pictured\", \"piece\", \"piece\", \"piece\", \"piece\", \"pink\", \"pjs\", \"plantar\", \"pleasantly\", \"pleasantly_surprised\", \"pleased\", \"pleased\", \"pleased_purchase\", \"plenty\", \"plenty\", \"plenty\", \"pocket\", \"pool\", \"poor\", \"poor\", \"poor_quality\", \"poorly\", \"poorly_made\", \"pound\", \"pregnant\", \"present\", \"pretty\", \"pretty\", \"pretty\", \"pretty\", \"pretty\", \"price\", \"price\", \"product\", \"product\", \"product\", \"product\", \"product_discount\", \"protection\", \"protection\", \"purchase\", \"purchase\", \"purchased\", \"purchased\", \"purchased\", \"purchased\", \"purchased\", \"purchased\", \"purchased\", \"purchased\", \"purple\", \"purse\", \"put\", \"put\", \"put\", \"put\", \"put\", \"quality\", \"quality\", \"quality\", \"rain\", \"ran\", \"real\", \"real\", \"real\", \"real\", \"really\", \"really\", \"really\", \"really\", \"really\", \"really\", \"really\", \"really\", \"really\", \"reason\", \"reason\", \"reasonable\", \"received\", \"received\", \"received\", \"received\", \"received\", \"recommend\", \"recommend\", \"recommend\", \"recommend\", \"recommend\", \"recommended\", \"red\", \"refund\", \"review\", \"review\", \"review\", \"ride\", \"ride\", \"ring\", \"robe\", \"roll\", \"room\", \"room\", \"room\", \"room\", \"room\", \"run\", \"running\", \"running\", \"running\", \"running\", \"sandal\", \"satisfied\", \"say\", \"say\", \"say\", \"say\", \"say\", \"say\", \"scarf\", \"school\", \"school\", \"second_pair\", \"see\", \"see\", \"see\", \"see\", \"see\", \"see\", \"seems\", \"seems\", \"seems\", \"seems\", \"seems\", \"seems\", \"seems\", \"seems\", \"send\", \"sent\", \"set\", \"set\", \"set\", \"set\", \"set\", \"set\", \"shirt\", \"shirt\", \"shirt\", \"shirt\", \"shoe\", \"short\", \"short\", \"show\", \"show\", \"show\", \"shown\", \"shown_picture\", \"shrink\", \"side\", \"side\", \"side\", \"side\", \"side\", \"side\", \"side\", \"side\", \"silver\", \"sister\", \"size\", \"size_chart\", \"sizing\", \"skin\", \"skin\", \"skin\", \"sleeve\", \"sleeve\", \"sleeve\", \"slot\", \"small\", \"smaller\", \"smaller\", \"snug\", \"snug\", \"snug\", \"sock\", \"soft\", \"soft\", \"soft\", \"sole\", \"son\", \"son\", \"soon\", \"space\", \"space\", \"sparkle\", \"star\", \"started\", \"stay\", \"stay\", \"stay\", \"stay_place\", \"still\", \"still\", \"still\", \"still\", \"still\", \"still\", \"still\", \"still\", \"stone\", \"strap\", \"strap\", \"strap\", \"strap\", \"strap\", \"stuff\", \"stuff\", \"suit\", \"sun\", \"sunglass\", \"super\", \"super_cute\", \"support\", \"support\", \"tad\", \"take\", \"take\", \"take\", \"take\", \"take\", \"take\", \"tall\", \"tall\", \"tank\", \"tank_top\", \"teen\", \"terrible\", \"terrible\", \"thank\", \"thanks\", \"thin\", \"thin\", \"thing\", \"thing\", \"thing\", \"thing\", \"thing\", \"thing\", \"thing\", \"though\", \"though\", \"though\", \"though\", \"though\", \"though\", \"thru\", \"tie\", \"tight\", \"tight\", \"tighten\", \"tights\", \"time\", \"time\", \"time\", \"toe\", \"took\", \"top\", \"top\", \"travel\", \"tried\", \"tried\", \"tried\", \"tried\", \"true\", \"true\", \"true_size\", \"tummy\", \"two\", \"two\", \"two\", \"two\", \"ugly\", \"umbrella\", \"unbiased\", \"underwear\", \"use\", \"use\", \"use\", \"use\", \"use\", \"usually\", \"usually_wear\", \"value\", \"value\", \"velcro\", \"vibrant\", \"waist\", \"waist\", \"wait\", \"walk\", \"walk\", \"walking\", \"walking\", \"wallet\", \"want\", \"want\", \"want\", \"want\", \"want\", \"want\", \"warm\", \"wash\", \"washed\", \"washing\", \"waste\", \"waste_money\", \"watch\", \"water\", \"water\", \"water\", \"way\", \"way\", \"way\", \"way\", \"way\", \"wear\", \"wear\", \"wear\", \"wear\", \"wear\", \"wear\", \"wear\", \"wearing\", \"wearing\", \"wearing\", \"wearing\", \"wearing\", \"wearing\", \"weather\", \"wedding\", \"wedding\", \"week\", \"weight\", \"weight\", \"weight\", \"weight\", \"weight\", \"weight\", \"weird\", \"weird\", \"weird\", \"well\", \"well\", \"well\", \"well\", \"well\", \"wet\", \"white\", \"white\", \"wife\", \"wig\", \"wind\", \"winter\", \"within\", \"woman\", \"woman\", \"woman\", \"wonderful\", \"wonderful\", \"wonderful\", \"work\", \"work\", \"work\", \"work\", \"work\", \"work\", \"work\", \"working\", \"working\", \"working\", \"worth\", \"worth\", \"would\", \"would\", \"would\", \"would\", \"would\", \"would\", \"would\", \"would\", \"would\", \"wrist\", \"wrist\", \"wrist\", \"xl\", \"xxl\", \"year\", \"year\", \"year\", \"year_ago\", \"year_old\", \"yellow\", \"yoga\", \"young\", \"yr\", \"yr_old\", \"zipper\"]}, \"R\": 30, \"lambda.step\": 0.01, \"plot.opts\": {\"xlab\": \"PC1\", \"ylab\": \"PC2\"}, \"topic.order\": [6, 7, 9, 1, 2, 3, 4, 10, 5, 8]};\n",
       "\n",
       "function LDAvis_load_lib(url, callback){\n",
       "  var s = document.createElement('script');\n",
       "  s.src = url;\n",
       "  s.async = true;\n",
       "  s.onreadystatechange = s.onload = callback;\n",
       "  s.onerror = function(){console.warn(\"failed to load library \" + url);};\n",
       "  document.getElementsByTagName(\"head\")[0].appendChild(s);\n",
       "}\n",
       "\n",
       "if(typeof(LDAvis) !== \"undefined\"){\n",
       "   // already loaded: just create the visualization\n",
       "   !function(LDAvis){\n",
       "       new LDAvis(\"#\" + \"ldavis_el292313544194522408433757515\", ldavis_el292313544194522408433757515_data);\n",
       "   }(LDAvis);\n",
       "}else if(typeof define === \"function\" && define.amd){\n",
       "   // require.js is available: use it to load d3/LDAvis\n",
       "   require.config({paths: {d3: \"https://cdnjs.cloudflare.com/ajax/libs/d3/3.5.5/d3.min\"}});\n",
       "   require([\"d3\"], function(d3){\n",
       "      window.d3 = d3;\n",
       "      LDAvis_load_lib(\"https://cdn.rawgit.com/bmabey/pyLDAvis/files/ldavis.v1.0.0.js\", function(){\n",
       "        new LDAvis(\"#\" + \"ldavis_el292313544194522408433757515\", ldavis_el292313544194522408433757515_data);\n",
       "      });\n",
       "    });\n",
       "}else{\n",
       "    // require.js not available: dynamically load d3 & LDAvis\n",
       "    LDAvis_load_lib(\"https://cdnjs.cloudflare.com/ajax/libs/d3/3.5.5/d3.min.js\", function(){\n",
       "         LDAvis_load_lib(\"https://cdn.rawgit.com/bmabey/pyLDAvis/files/ldavis.v1.0.0.js\", function(){\n",
       "                 new LDAvis(\"#\" + \"ldavis_el292313544194522408433757515\", ldavis_el292313544194522408433757515_data);\n",
       "            })\n",
       "         });\n",
       "}\n",
       "</script>"
      ],
      "text/plain": [
       "<IPython.core.display.HTML object>"
      ]
     },
     "execution_count": 93,
     "metadata": {},
     "output_type": "execute_result"
    }
   ],
   "source": [
    "pyLDAvis.display(lda_display)"
   ]
  },
  {
   "cell_type": "markdown",
   "metadata": {},
   "source": [
    "As we can see from the visual on the left there is a good amount of overlap on a few of the topics created. In all the iterations of modeling this one has the closest distance between topics. Topics 1, 2, 3, and 4 are more closely related as well as 7 and 9 which also have some overlap. The  On the right are the Top 30 most useful terms in interpreting the topic. According the research done by the creators of the LDAvis method of visualizing and interpreting Topics, the ideal $\\lambda $ for interpreting the topics is 0.6 (Sievert & Shirley, 2014) From here let's figure out what our topics mean. "
   ]
  },
  {
   "cell_type": "markdown",
   "metadata": {},
   "source": [
    "|Topic|Observations|\n",
    "|---|---|\n",
    "|Topic 1| Our first topic does not seem to have a clear theme, Most salient words are: one, get and time.   | \n",
    "|Topic 2| Topic 2 main theme is satisfaction, with the most salient terms being love, great and good. | \n",
    "|Topic 3| This topic grouping seems to have themes of people not purchasing items in the correct size. | \n",
    "|Topic 4| This topic is dissatisfaction, with words like: cheap, material, thin, and bad|\n",
    "|Topic 5|  With words like leggings, bra. This topic represent Women's Clothing| \n",
    "|Topic 6| The underlying theme of this topic seems to be Jewelry and Accessories|\n",
    "|Topic 7| This topic seems to represent wallets, handbags, and other related small accessories like phone cases|\n",
    "|Topic 8| The theme of this topic is footwear| \n",
    "|Topic 9| The topic looks like yet another segmentation of seasonal accessories with mentions of both gloves and sun. | \n",
    "|Topic 10| Our final topic represents gifting| "
   ]
  },
  {
   "cell_type": "markdown",
   "metadata": {},
   "source": [
    "### Limitations "
   ]
  },
  {
   "cell_type": "markdown",
   "metadata": {},
   "source": [
    "\n",
    "There are a few limitations we should consider when it come to this model. First, the model was trained specifically on the data from the Amazon Fashion dataset, it will not perform as well on any other product group on Amazon. You would need to re-train the model for each different product group, as the words and topics in the reviews will be different.\n",
    "\n",
    "LDA modeling works by creating topics based off the frequency of their appearance within the corpus, which explain why we got a few cluster that mostly represented customers emotions, like satisfaction and dissatisfaction. "
   ]
  },
  {
   "cell_type": "markdown",
   "metadata": {},
   "source": [
    "### Conclusion and Next Steps "
   ]
  },
  {
   "cell_type": "markdown",
   "metadata": {},
   "source": [
    "Using LDA modeling we were able to find the ideal number of topics for our dataset was 10. We then built our working model which had the following results: \n",
    "\n",
    "|Metric| Training Score| Testing Score| \n",
    "|---|---|---|\n",
    "|Coherence $c_{v}$|0.659 | 0.663|\n",
    "|Perplexity|-7.089 | -7.104| \n",
    "\n",
    "Our testing data actually performed slightly better than the training data. After examining the 10 topics created by the model it was pretty easy to identify what most of the topics were about, but not all of them were useful for segmenting types of products purchased, they also represented the customer's feelings about the products which makes sense because they are leaving reviews. The product groups that are represented in the topics are: women's clothing, jewelry, small accessories/ handbags, footwear, seasonal accessories, and gifting. These are all categories that would translate well to suggestion through a e-mailed marketing campaign. \n",
    "\n",
    "All data is prepped and processed to do additional modeling with the result from the LDA topic modeling. From here, it would be cool to build a classification model to try and predict what topic a review might fall under. These outputs could also be used along with the reviewer and product information to create customer segmentations. \n",
    "\n",
    "\n"
   ]
  },
  {
   "cell_type": "markdown",
   "metadata": {},
   "source": [
    "### Sources "
   ]
  },
  {
   "cell_type": "markdown",
   "metadata": {},
   "source": [
    "Justifying recommendations using distantly-labeled reviews and fined-grained aspects\n",
    "Jianmo Ni, Jiacheng Li, Julian McAuley\n",
    "Empirical Methods in Natural Language Processing (EMNLP), 2019\n",
    "\n",
    "https://colab.research.google.com/drive/1Zv6MARGQcrBbLHyjPVVMZVnRWsRnVMpV#scrollTo=LgWrDtZ94w89\n",
    "\n",
    "https://stylecaster.com/amazon-fashion-the-drop-by-you-february-2020/ Bella Gerard \n",
    "\n",
    "https://www.latimes.com/entertainment-arts/business/story/2020-02-22/amazon-making-the-cut-reality-tv-heidi-klum-prime\n",
    "Wendy Lee, Feb 22 2020\n",
    "\n",
    "https://github.com/marcotav/unsupervised-learning/tree/master/topic-modeling\n",
    "\n",
    "https://books.google.com/books?id=i8-PDwAAQBAJ&pg=PA164&lpg=PA164&dq=using+nlp+data+and+also+customer+ids+for+clustering&source=bl&ots=J8auw-oehF&sig=ACfU3U3RKK_rHPXi0dH6bQ-le4A9BXSUFw&hl=en&ppis=_c&sa=X&ved=2ahUKEwjg7fLK0ojoAhUtj3IEHSorC7gQ6AEwCXoECA8QAQ#v=onepage&q&f=false\n",
    "\n",
    "\n",
    "https://towardsdatascience.com/evaluate-topic-model-in-python-latent-dirichlet-allocation-lda-7d57484bb5d0\n",
    "\n",
    "https://towardsdatascience.com/end-to-end-topic-modeling-in-python-latent-dirichlet-allocation-lda-35ce4ed6b3e0\n",
    "\n",
    "https://towardsdatascience.com/unsupervised-nlp-topic-models-as-a-supervised-learning-input-cf8ee9e5cf28\n",
    "\n",
    "Proceedings of the Workshop on Interactive Language Learning, Visualization, and Interfaces, pages 63–70,\n",
    "Baltimore, Maryland, USA, June 27, 2014. c 2014 Association for Computational Linguistics https://nlp.stanford.edu/events/illvi2014/papers/sievert-illvi2014.pdf"
   ]
  }
 ],
 "metadata": {
  "kernelspec": {
   "display_name": "Python [conda env:dsi] *",
   "language": "python",
   "name": "conda-env-dsi-py"
  },
  "language_info": {
   "codemirror_mode": {
    "name": "ipython",
    "version": 3
   },
   "file_extension": ".py",
   "mimetype": "text/x-python",
   "name": "python",
   "nbconvert_exporter": "python",
   "pygments_lexer": "ipython3",
   "version": "3.7.6"
  }
 },
 "nbformat": 4,
 "nbformat_minor": 2
}
